{
 "cells": [
  {
   "cell_type": "markdown",
   "metadata": {},
   "source": [
    "Inainte sa trimiti notebook-ul:\n",
    "\n",
    "* asigura-te ca totul se executa cum trebuie. Prima oara, **restarteaza kernel-ul** (in meniu, selecteaza Kernel$\\rightarrow$Restart & Run all);\n",
    "\n",
    "* nu lasa niciun mesaj la output (`disp`, `printf`, linii care nu sunt incheiate cu `;`) in functiile pe care le scrii decat daca ti se specifica explicit sa faci acest lucru! Orice abatere va fi **depunctata automat** de grader;\n",
    "\n",
    "* citeste instructiunile de [aici](https://github.com/radusqrt/numerical-methods/blob/master/lab_instructions.md) cu atentie;\n",
    "\n",
    "* asigura-te ca rezolvi toate celulele in care scrie `YOUR CODE HERE` sau `YOUR ANSWER HERE` si ca iti treci numele mai jos:"
   ]
  },
  {
   "cell_type": "code",
   "execution_count": 1,
   "metadata": {},
   "outputs": [],
   "source": [
    "STUDENT_NAME = \"PETRUC_RARES\";"
   ]
  },
  {
   "cell_type": "markdown",
   "metadata": {},
   "source": [
    "---"
   ]
  },
  {
   "cell_type": "markdown",
   "metadata": {
    "deletable": false,
    "editable": false,
    "nbgrader": {
     "cell_type": "markdown",
     "checksum": "f11bf5f1a5135c9ce99001321749ce09",
     "grade": false,
     "grade_id": "cell-04c7510c8f1c2698",
     "locked": true,
     "schema_version": 3,
     "solution": false,
     "task": false
    }
   },
   "source": [
    "# Laborator 9: Interpolari\n",
    "### Autor: Radu Stochitoiu"
   ]
  },
  {
   "cell_type": "markdown",
   "metadata": {
    "deletable": false,
    "editable": false,
    "nbgrader": {
     "cell_type": "markdown",
     "checksum": "e8333e18bbbac61dd5aae02a18638a13",
     "grade": false,
     "grade_id": "cell-e751989d65b9c642",
     "locked": true,
     "schema_version": 3,
     "solution": false,
     "task": false
    }
   },
   "source": [
    "## Problema 1\n",
    "\n",
    "Implementati funcția ```vandermonde(x, y)``` ce primește doi vectori linie, $x, y$, reprezentând coordonatele pe axele OX și OY ale unor puncte ce definesc suportul interpolării și returnează un vector coloană, $P$, ce reprezintă polinomul care trece prin toate punctele.\n",
    "\n",
    "Primul element al lui $P$ reprezintă coeficientul celei mai mari puteri.\n",
    "\n",
    "Ultimul element al lui $P$ reprezintă coeficientul celei mai mici puteri ($x^0$)."
   ]
  },
  {
   "cell_type": "code",
   "execution_count": 2,
   "metadata": {
    "deletable": false,
    "nbgrader": {
     "cell_type": "code",
     "checksum": "db5fcd7b74b007c1801ed9e4b49227a4",
     "grade": false,
     "grade_id": "cell-e0adea4fd70d2b4d",
     "locked": false,
     "schema_version": 3,
     "solution": true,
     "task": false
    }
   },
   "outputs": [],
   "source": [
    "function [P] = vandermonde(x, y)\n",
    "    n = length(x);\n",
    "    P = zeros(n:1);\n",
    "    A = zeros(n);\n",
    "    A(:, 1) = 1;\n",
    "    for i = 1:n\n",
    "        A(i, [2:n]) = x(i).^(1:n-1);\n",
    "    endfor\n",
    "    P = flip((inv(A))*y');\n",
    "endfunction"
   ]
  },
  {
   "cell_type": "code",
   "execution_count": 3,
   "metadata": {
    "deletable": false,
    "editable": false,
    "nbgrader": {
     "cell_type": "code",
     "checksum": "0603c10cdea3fff847e0661afc9154ae",
     "grade": true,
     "grade_id": "cell-5997f045f89d340e",
     "locked": true,
     "points": 2.5,
     "schema_version": 3,
     "solution": false,
     "task": false
    }
   },
   "outputs": [
    {
     "data": {
      "image/png": "[encoded data removed]",
      "text/plain": [
       "<IPython.core.display.Image object>"
      ]
     },
     "metadata": {},
     "output_type": "display_data"
    }
   ],
   "source": [
    "function [y] = f(x)\n",
    "    y = sin(x) - x.^2;\n",
    "endfunction\n",
    "\n",
    "% Test 1\n",
    "x = sort((rand(1, 3) - 0.5) * 50);\n",
    "y = f(x);\n",
    "P = vandermonde(x, y);\n",
    "\n",
    "subplot(3, 1, 1);\n",
    "hold\n",
    "xx = linspace(min(x), max(x));\n",
    "yy = polyval(P, xx);\n",
    "plot(xx, yy)\n",
    "plot(xx, f(xx))\n",
    "plot(x, y, 'o', 'markersize', 12)\n",
    "for i = 1:length(x)\n",
    "    assert(norm(polyval(P, x(i)) - y(i)) < 1e-4);\n",
    "endfor\n",
    "legend(\"Aproximare\", \"Real\")\n",
    "\n",
    "% Test 2\n",
    "x = sort((rand(1, 5) - 0.5) * 50);\n",
    "y = f(x);\n",
    "P = vandermonde(x, y);\n",
    "\n",
    "subplot(3, 1, 2);\n",
    "hold\n",
    "xx = linspace(min(x), max(x));\n",
    "yy = polyval(P, xx);\n",
    "plot(xx, yy)\n",
    "plot(xx, f(xx))\n",
    "hold on\n",
    "plot(x, y, 'o', 'markersize', 12)\n",
    "for i = 1:length(x)\n",
    "    assert(norm(polyval(P, x(i)) - y(i)) < 1e-4);\n",
    "endfor\n",
    "legend(\"Aproximare\", \"Real\")\n",
    "\n",
    "% Test 3\n",
    "x = sort((rand(1, 10) - 0.5) * 50);\n",
    "y = f(x);\n",
    "P = vandermonde(x, y);\n",
    "\n",
    "subplot(3, 1, 3);\n",
    "hold\n",
    "xx = linspace(min(x), max(x));\n",
    "yy = polyval(P, xx);\n",
    "plot(xx, yy)\n",
    "plot(xx, f(xx))\n",
    "hold on\n",
    "plot(x, y, 'o', 'markersize', 12)\n",
    "for i = 1:length(x)\n",
    "    assert(norm(polyval(P, x(i)) - y(i)) < 1e-4);\n",
    "endfor\n",
    "legend(\"Aproximare\", \"Real\")"
   ]
  },
  {
   "cell_type": "markdown",
   "metadata": {
    "deletable": false,
    "editable": false,
    "nbgrader": {
     "cell_type": "markdown",
     "checksum": "23a857dced380395a944837111288456",
     "grade": false,
     "grade_id": "cell-43a2db7c04972239",
     "locked": true,
     "schema_version": 3,
     "solution": false,
     "task": false
    }
   },
   "source": [
    "## Problema 2\n",
    "\n",
    "Implementati funcția ```lagrange(x, y, xx)``` ce primește doi vectori linie, $x, y$, reprezentând coordonatele pe axele OX și OY ale unor puncte ce definesc suportul interpolării și un vector linie $xx$ pentru care vrem să găsim valorile aproximate și returnează un vector linie, $yy$, ce reprezintă valorile interpolării Lagrange cu suportul $x, y$ prin toate punctele $xx$."
   ]
  },
  {
   "cell_type": "code",
   "execution_count": 4,
   "metadata": {
    "deletable": false,
    "nbgrader": {
     "cell_type": "code",
     "checksum": "fb61e583f6a307a5139d5d26d673d618",
     "grade": false,
     "grade_id": "cell-494fbafda041e109",
     "locked": false,
     "schema_version": 3,
     "solution": true,
     "task": false
    }
   },
   "outputs": [],
   "source": [
    "function [yy] = lagrange(x, y, xx)\n",
    "\n",
    "    n = length(x);\n",
    "    yy = zeros(1, length(xx));\n",
    "    for i = 1:n\n",
    "        L = 1;\n",
    "        for j = 1:n \n",
    "            if (j ~= i)\n",
    "                L = L .* (xx - x(j))/(x(i)-x(j));\n",
    "            endif\n",
    "        endfor\n",
    "        yy = yy + L*y(i);\n",
    "    endfor\n",
    "endfunction"
   ]
  },
  {
   "cell_type": "code",
   "execution_count": 5,
   "metadata": {
    "deletable": false,
    "editable": false,
    "nbgrader": {
     "cell_type": "code",
     "checksum": "88c1e3aa9ddf16c54e3c28fca4f81422",
     "grade": true,
     "grade_id": "cell-b80a51a7a9d78f15",
     "locked": true,
     "points": 2.5,
     "schema_version": 3,
     "solution": false,
     "task": false
    }
   },
   "outputs": [
    {
     "data": {
      "image/png": "[encoded data removed]",
      "text/plain": [
       "<IPython.core.display.Image object>"
      ]
     },
     "metadata": {},
     "output_type": "display_data"
    }
   ],
   "source": [
    "function [y] = f(x)\n",
    "    y = x.^3 / 15 - 3;\n",
    "endfunction\n",
    "\n",
    "% Test 1\n",
    "x = sort((rand(1, 3) - 0.5) * 100);\n",
    "y = f(x);\n",
    "xx = linspace(min(x), max(x));\n",
    "yy = lagrange(x, y, xx);\n",
    "yy_test = lagrange(x, y, x);\n",
    "\n",
    "subplot(3, 1, 1);\n",
    "hold;\n",
    "plot(xx, yy)\n",
    "plot(xx, f(xx))\n",
    "plot(x, y, 'o', 'markersize', 12)\n",
    "for i = 1:length(x)\n",
    "    assert(norm(yy_test(i) - y(i)) < 1e-4);\n",
    "endfor\n",
    "legend(\"Aproximare\", \"Real\")\n",
    "\n",
    "% Test 2\n",
    "x = sort((rand(1, 10) - 0.5) * 100);\n",
    "y = f(x);\n",
    "xx = linspace(min(x), max(x));\n",
    "yy = lagrange(x, y, xx);\n",
    "yy_test = lagrange(x, y, x);\n",
    "\n",
    "subplot(3, 1, 2);\n",
    "hold\n",
    "plot(xx, yy)\n",
    "plot(xx, f(xx))\n",
    "plot(x, y, 'o', 'markersize', 12)\n",
    "for i = 1:length(x)\n",
    "    assert(norm(yy_test(i) - y(i)) < 1e-4);\n",
    "endfor\n",
    "legend(\"Aproximare\", \"Real\")\n",
    "\n",
    "% Test 3\n",
    "x = sort((rand(1, 30) - 0.5) * 100);\n",
    "y = f(x);\n",
    "xx = linspace(min(x), max(x));\n",
    "yy = lagrange(x, y, xx);\n",
    "yy_test = lagrange(x, y, x);\n",
    "\n",
    "subplot(3, 1, 3);\n",
    "hold\n",
    "plot(xx, yy)\n",
    "plot(xx, f(xx))\n",
    "plot(x, y, 'o', 'markersize', 12)\n",
    "for i = 1:length(x)\n",
    "    assert(norm(yy_test(i) - y(i)) < 1e-4);\n",
    "endfor\n",
    "legend(\"Aproximare\", \"Real\")"
   ]
  },
  {
   "cell_type": "markdown",
   "metadata": {
    "deletable": false,
    "editable": false,
    "nbgrader": {
     "cell_type": "markdown",
     "checksum": "b2408a561977a9c4fbbcecadfdc830ea",
     "grade": false,
     "grade_id": "cell-065ac5825e6c57cc",
     "locked": true,
     "schema_version": 3,
     "solution": false,
     "task": false
    }
   },
   "source": [
    "## Problema 3\n",
    "\n",
    "Implementati funcția ```newton(x, y)``` ce primește doi vectori linie, $x, y$, reprezentând coordonatele pe axele OX și OY ale unor puncte ce definesc suportul interpolării și returnează un vector linie, $P$, ce reprezintă coeficienții interpolării prin diferențe divizate ($b_0, b_1, ...$).\n",
    "\n",
    "Primul element al lui $P$ reprezintă coeficientul celei mai mari puteri.\n",
    "\n",
    "Ultimul element al lui $P$ reprezintă coeficientul celei mai mici puteri."
   ]
  },
  {
   "cell_type": "code",
   "execution_count": 6,
   "metadata": {
    "deletable": false,
    "nbgrader": {
     "cell_type": "code",
     "checksum": "8c3678d21a9445b06e894be62ab12f53",
     "grade": false,
     "grade_id": "cell-6761c22fa27d79cd",
     "locked": false,
     "schema_version": 3,
     "solution": true,
     "task": false
    }
   },
   "outputs": [],
   "source": [
    "% Functie care calculeaza recursiv coeficientul f[x_start, ..., x_stop]\n",
    "% Nu e obligatoriu sa o implementati\n",
    "function [b] = newton_helper(x, y, start, stop)\n",
    "    % YOUR CODE HERE\n",
    "    error('No Answer Given!')\n",
    "endfunction\n",
    "\n",
    "function [P] = newton(x, y)\n",
    "    n = length(x);\n",
    "    P = zeros(1, n);\n",
    "    P(1) = y(1);\n",
    "    P(2) = (y(2)-y(1))/(x(2)-x(1));\n",
    "    P(3) = ((y(3)-y(2))/(x(3)-x(2))-(y(2)-y(1))/(x(2)-x(1)))/(x(3)-x(1));\n",
    "    \n",
    "    %P1 = produs1\n",
    "    %P2 = produs2\n",
    "    \n",
    "    P1 = 1;\n",
    "    P2 = 1;\n",
    "    \n",
    "    for i = 4:n\n",
    "    \n",
    "        s = 0;\n",
    "        P1 = 1;\n",
    "        P2 = 1;\n",
    "        \n",
    "        for j = 2:i-1\n",
    "        \n",
    "            P1 = P1 * (x(i)-x(j-1));\n",
    "            s = s + P(j)*P1;\n",
    "        \n",
    "        endfor\n",
    "        \n",
    "        s = s+P(1);\n",
    "        s = -s;\n",
    "        \n",
    "        P2 = P1*(x(i)-x(i-1));\n",
    "        \n",
    "        P(i) = (y(i) + s)/P2;\n",
    "    \n",
    "    endfor\n",
    "    \n",
    "    P = flip(P);\n",
    "    \n",
    "endfunction"
   ]
  },
  {
   "cell_type": "code",
   "execution_count": 7,
   "metadata": {
    "deletable": false,
    "editable": false,
    "nbgrader": {
     "cell_type": "code",
     "checksum": "1205fdce5f0338bad50650280a35896d",
     "grade": true,
     "grade_id": "cell-0d51add581d76a6a",
     "locked": true,
     "points": 2.5,
     "schema_version": 3,
     "solution": false,
     "task": false
    }
   },
   "outputs": [
    {
     "data": {
      "image/png": "[encoded data removed]",
      "text/plain": [
       "<IPython.core.display.Image object>"
      ]
     },
     "metadata": {},
     "output_type": "display_data"
    }
   ],
   "source": [
    "function [y] = newton_eval(P, xx, x)\n",
    "    y = 0;\n",
    "    p = 1;\n",
    "    for i = 1:length(P)\n",
    "        y += p .* P(length(P) - i + 1);\n",
    "        p = p .* (x - xx(i));\n",
    "    endfor\n",
    "endfunction\n",
    "\n",
    "function [y] = f(x)\n",
    "    y = x.^3 / 15 - 3;\n",
    "endfunction\n",
    "\n",
    "% Test 1\n",
    "x = sort((rand(1, 3) - 0.5) * 100);\n",
    "y = f(x);\n",
    "xx = linspace(min(x), max(x));\n",
    "P = newton(x, y);\n",
    "yy = newton_eval(P, x, xx);\n",
    "yy_test = newton_eval(P, x, x);\n",
    "\n",
    "subplot(3, 1, 1);\n",
    "hold;\n",
    "plot(xx, yy)\n",
    "plot(xx, f(xx))\n",
    "plot(x, y, 'o', 'markersize', 12)\n",
    "for i = 1:length(x)\n",
    "    assert(norm(yy_test(i) - y(i)) < 1e-4);\n",
    "endfor\n",
    "legend(\"Aproximare\", \"Real\")\n",
    "\n",
    "% Test 2\n",
    "x = sort((rand(1, 10) - 0.5) * 100);\n",
    "y = f(x);\n",
    "xx = linspace(min(x), max(x));\n",
    "P = newton(x, y);\n",
    "yy = newton_eval(P, x, xx);\n",
    "yy_test = newton_eval(P, x, x);\n",
    "\n",
    "subplot(3, 1, 2);\n",
    "hold;\n",
    "plot(xx, yy)\n",
    "plot(xx, f(xx))\n",
    "plot(x, y, 'o', 'markersize', 12)\n",
    "for i = 1:length(x)\n",
    "    assert(norm(yy_test(i) - y(i)) < 1e-4);\n",
    "endfor\n",
    "legend(\"Aproximare\", \"Real\")\n",
    "\n",
    "% Test 3\n",
    "x = sort((rand(1, 15) - 0.5) * 100);\n",
    "y = f(x);\n",
    "xx = linspace(min(x), max(x));\n",
    "P = newton(x, y);\n",
    "yy = newton_eval(P, x, xx);\n",
    "yy_test = newton_eval(P, x, x);\n",
    "\n",
    "subplot(3, 1, 3);\n",
    "hold;\n",
    "plot(xx, yy)\n",
    "plot(xx, f(xx))\n",
    "plot(x, y, 'o', 'markersize', 12)\n",
    "for i = 1:length(x)\n",
    "    assert(norm(yy_test(i) - y(i)) < 1e-4);\n",
    "endfor\n",
    "legend(\"Aproximare\", \"Real\")"
   ]
  },
  {
   "cell_type": "markdown",
   "metadata": {
    "deletable": false,
    "editable": false,
    "nbgrader": {
     "cell_type": "markdown",
     "checksum": "a003860d25119603b3a959aa690712d3",
     "grade": false,
     "grade_id": "cell-c29da95304d96909",
     "locked": true,
     "schema_version": 3,
     "solution": false,
     "task": false
    }
   },
   "source": [
    "## Problema 4\n",
    "\n",
    "Implementati funcția ```neville(x, y, xx)``` ce primește doi vectori linie, $x, y$, reprezentând coordonatele pe axele OX și OY ale unor puncte ce definesc suportul interpolării și un vector linie $xx$ pentru care vrem să găsim valorile aproximate și returnează un vector linie, $yy$, ce reprezintă valorile interpolării Neville cu suportul $x, y$ prin toate punctele $xx$."
   ]
  },
  {
   "cell_type": "code",
   "execution_count": 8,
   "metadata": {
    "deletable": false,
    "nbgrader": {
     "cell_type": "code",
     "checksum": "20b604a494e91bd23338f65963c359d0",
     "grade": false,
     "grade_id": "cell-3210d22275d2eb47",
     "locked": false,
     "schema_version": 3,
     "solution": true,
     "task": false
    }
   },
   "outputs": [],
   "source": [
    "% Functie care calculeaza recursiv P_ij(to_eval) pentru suportul [x, y]\n",
    "% Nu e obligatoriu sa o implementati\n",
    "function [res] = P(to_eval, x, y, i, j)\n",
    "    % YOUR CODE HERE\n",
    "    error('No Answer Given!')\n",
    "endfunction\n",
    "\n",
    "function [yy] = neville(x, y, xx)\n",
    "    n = length(x);\n",
    "    yy = zeros(1, length(xx));\n",
    "    P = cell(n);\n",
    "    for i = 1:n\n",
    "        P(i, i) = y(i);\n",
    "    endfor\n",
    "    for k= 2:n\n",
    "    \n",
    "        i = 1;\n",
    "    \n",
    "            for j = k:n\n",
    "            \n",
    "              P(i, j) = (conv([1, -x(j)], cell2mat(P(i, j-1))) + conv([-1, x(i)], cell2mat(P(i+1, j))))/(x(i)-x(j));\n",
    "              i++;\n",
    "            \n",
    "            endfor\n",
    "            \n",
    "    endfor\n",
    "    \n",
    "    poli = cell2mat(P(1, n));\n",
    "    yy = polyval(poli, xx);\n",
    "    \n",
    "endfunction"
   ]
  },
  {
   "cell_type": "code",
   "execution_count": 9,
   "metadata": {},
   "outputs": [
    {
     "name": "stdout",
     "output_type": "stream",
     "text": [
      "yy = -0.77143\r\n"
     ]
    }
   ],
   "source": [
    "x = [-2 2 3 5]; \n",
    "y = [-3 1 3 7];\n",
    "xx = 1;\n",
    "\n",
    "yy = neville(x, y, xx)"
   ]
  },
  {
   "cell_type": "code",
   "execution_count": 10,
   "metadata": {
    "deletable": false,
    "editable": false,
    "nbgrader": {
     "cell_type": "code",
     "checksum": "aaf17a7e9012d764aed4271f00b9de4f",
     "grade": true,
     "grade_id": "cell-8ebb038ac186819f",
     "locked": true,
     "points": 2.5,
     "schema_version": 3,
     "solution": false,
     "task": false
    }
   },
   "outputs": [
    {
     "data": {
      "image/png": "[encoded data removed]",
      "text/plain": [
       "<IPython.core.display.Image object>"
      ]
     },
     "metadata": {},
     "output_type": "display_data"
    }
   ],
   "source": [
    "function [y] = f(x)\n",
    "    y = 8 * sin(x / 2) ./ (abs(cos(x)) + 1);\n",
    "endfunction\n",
    "\n",
    "% Test 1\n",
    "x = sort((rand(1, 3) - 0.5) * 50);\n",
    "y = f(x);\n",
    "xx = linspace(min(x), max(x));\n",
    "yy = neville(x, y, xx);\n",
    "yy_test = neville(x, y, x);\n",
    "\n",
    "subplot(3, 1, 1);\n",
    "hold;\n",
    "plot(xx, yy)\n",
    "plot(xx, f(xx))\n",
    "plot(x, y, 'o', 'markersize', 12)\n",
    "for i = 1:length(x)\n",
    "    assert(norm(yy_test(i) - y(i)) < 1e-4);\n",
    "endfor\n",
    "legend(\"Aproximare\", \"Real\")\n",
    "\n",
    "% Test 2\n",
    "x = sort((rand(1, 7) - 0.5) * 50);\n",
    "y = f(x);\n",
    "xx = linspace(min(x), max(x));\n",
    "yy = neville(x, y, xx);\n",
    "yy_test = neville(x, y, x);\n",
    "\n",
    "subplot(3, 1, 2);\n",
    "hold;\n",
    "plot(xx, yy)\n",
    "plot(xx, f(xx))\n",
    "plot(x, y, 'o', 'markersize', 12)\n",
    "for i = 1:length(x)\n",
    "    assert(norm(yy_test(i) - y(i)) < 1e-4);\n",
    "endfor\n",
    "legend(\"Aproximare\", \"Real\")\n",
    "\n",
    "% Test 3\n",
    "x = sort((rand(1, 10) - 0.5) * 50);\n",
    "y = f(x);\n",
    "xx = linspace(min(x), max(x));\n",
    "yy = neville(x, y, xx);\n",
    "yy_test = neville(x, y, x);\n",
    "\n",
    "subplot(3, 1, 3);\n",
    "hold;\n",
    "plot(xx, yy)\n",
    "plot(xx, f(xx))\n",
    "plot(x, y, 'o', 'markersize', 12)\n",
    "for i = 1:length(x)\n",
    "    assert(norm(yy_test(i) - y(i)) < 1e-4);\n",
    "endfor\n",
    "legend(\"Aproximare\", \"Real\")"
   ]
  },
  {
   "cell_type": "code",
   "execution_count": 11,
   "metadata": {},
   "outputs": [],
   "source": [
    "function yi = Neville(x, y, xi)\n",
    "n = length(x);\n",
    "for k = 1 : n-1\n",
    "    for i = 1 : n-k\n",
    "        raport = (xi-x(k+i))/(x(i)-x(k+i));\n",
    "        y(i) = raport*y(i)+(1-raport)*y(i+1);\n",
    "    endfor\n",
    "endfor\n",
    "yi = y(1);\n",
    "endfunction"
   ]
  },
  {
   "cell_type": "code",
   "execution_count": 12,
   "metadata": {},
   "outputs": [
    {
     "name": "stdout",
     "output_type": "stream",
     "text": [
      "yy = -0.77143\r\n"
     ]
    }
   ],
   "source": [
    "x = [-2 2 3 5]; \n",
    "y = [-3 1 3 7];\n",
    "xx = 1;\n",
    "\n",
    "yy = Neville(x, y, xx)"
   ]
  },
  {
   "cell_type": "markdown",
   "metadata": {
    "deletable": false,
    "editable": false,
    "nbgrader": {
     "cell_type": "markdown",
     "checksum": "e13833983a0f8b17f0491e54823260e3",
     "grade": false,
     "grade_id": "cell-df9b6f6b091c12cf",
     "locked": true,
     "schema_version": 3,
     "solution": false,
     "task": false
    }
   },
   "source": [
    "## Problema 5\n",
    "\n",
    "Implementati funcția ```spline_c2_natural(x, y)``` ce primește doi vectori linie, $x, y$, reprezentând coordonatele pe axele OX și OY ale unor puncte ce definesc suportul interpolării și returnează o matrice $S$ ce are pe linia i coeficienții $a_{i-1}, b_{i-1}, c_{i-1}, d_{i-1}$."
   ]
  },
  {
   "cell_type": "code",
   "execution_count": 13,
   "metadata": {
    "deletable": false,
    "nbgrader": {
     "cell_type": "code",
     "checksum": "2fa5d8434906341e00e4fc08c96612fb",
     "grade": false,
     "grade_id": "cell-fff77032e4d15bf7",
     "locked": false,
     "schema_version": 3,
     "solution": true,
     "task": false
    }
   },
   "outputs": [],
   "source": [
    "function [S] = spline_c2_natural(x, y)\n",
    "    n = length(x)-1;\n",
    "    A = zeros(4*n);\n",
    "    b = zeros(4*n, 1);\n",
    "    j=1;\n",
    "    % primele n+1 ecuatii\n",
    "    for i = 1:4:4*n\n",
    "        A(j, i) = 1;\n",
    "        b(j) = y(j);\n",
    "        j++;\n",
    "    endfor\n",
    "    \n",
    "    A(j, [4*n-3:4*n]) = [(x(n+1)-x(n)).^([0:2+1])];\n",
    "    b(j) = y(j);\n",
    "    j++;\n",
    "    \n",
    "    % pana aici\n",
    "    \n",
    "    % urmatoarele n-1 ecuatii\n",
    "    \n",
    "    for i = 0:n-2\n",
    "    \n",
    "        A(j, [4*i+1:4*(i+1)]) = (x(i+2)-x(i+1)).^([0:3]);\n",
    "        A(j, 4*(i+1)+1) = -1;\n",
    "    \n",
    "        j++;\n",
    "    endfor   \n",
    "    % pana aici\n",
    "    \n",
    "    % urmatoarele n-1 ecuatii\n",
    "    \n",
    "    for i = 0:n-2\n",
    "    \n",
    "        A(j, [4*i+2:4*(i+1)]) = (x(i+2)-x(i+1)).^[0:2].*[1:3];\n",
    "        A(j, 4*(i+1)+2) = -1;\n",
    "        \n",
    "        j++;\n",
    "    \n",
    "    endfor\n",
    "    \n",
    "    % pana aici\n",
    "\n",
    "    % urmatoarele n-1 ecuatii\n",
    "    \n",
    "    for i = 0:n-2\n",
    "    \n",
    "        A(j, [4*i+3:4*(i+1)]) = (x(i+2)-x(i+1)).^[0:1].*[2, 6];\n",
    "        A(j, 4*(i+1)+3) = -2;\n",
    "        \n",
    "        j++;\n",
    "    \n",
    "    endfor    \n",
    "    \n",
    "    % pana aici\n",
    "\n",
    "    % ultimele 2 ecuatii pentru spline natural\n",
    "\n",
    "        A(j, 3) = 1;\n",
    "        \n",
    "        j++;\n",
    "        \n",
    "        A(j, [4*(n-1)+3, 4*(n-1)+4]) = [2, 6*(x(n+1)- x(n))];\n",
    "\n",
    "    x = inv(A)*b;\n",
    "    S = reshape(x, 4, n)';\n",
    "endfunction"
   ]
  },
  {
   "cell_type": "code",
   "execution_count": 14,
   "metadata": {},
   "outputs": [
    {
     "name": "stdout",
     "output_type": "stream",
     "text": [
      "ans =  6\r\n",
      "ans =  4.0000\r\n",
      "ans =  4\r\n",
      "ans =  3\r\n"
     ]
    }
   ],
   "source": [
    "%x = [0 1 2];\n",
    "%y = [6 4 3];\n",
    "x = [0 1 2];\n",
    "y = [6 4 3];\n",
    "[S] = spline_c2_natural(x, y);\n",
    "\n",
    "n = length(x);\n",
    "for i = 1:n-1\n",
    "\n",
    "    pola = [0, 0, 0, 1];\n",
    "    polb = [0, 0, 1, -x(i)];\n",
    "    polc = [0, conv([1, -x(i)], [1, -x(i)])];\n",
    "    pold = conv(conv([1, -x(i)], [1, -x(i)]), [1, -x(i)]);\n",
    "\n",
    "    polinom = S(i, 1)*pola + S(i, 2)*polb + S(i, 3)*polc + S(i, 4)*pold;\n",
    "\n",
    "    polyval(polinom, x(i))\n",
    "    polyval(polinom, x(i+1))\n",
    "\n",
    "endfor"
   ]
  },
  {
   "cell_type": "code",
   "execution_count": 15,
   "metadata": {
    "deletable": false,
    "editable": false,
    "nbgrader": {
     "cell_type": "code",
     "checksum": "61b747ec843b98a389b7f0a77f91929e",
     "grade": true,
     "grade_id": "cell-c3321c1907a49a31",
     "locked": true,
     "points": 2.5,
     "schema_version": 3,
     "solution": false,
     "task": false
    }
   },
   "outputs": [
    {
     "data": {
      "image/png": "[encoded data removed]",
      "text/plain": [
       "<IPython.core.display.Image object>"
      ]
     },
     "metadata": {},
     "output_type": "display_data"
    }
   ],
   "source": [
    "function [XX, YY] = spline_eval(S, x, y)\n",
    "    XX = [];\n",
    "    YY = [];\n",
    "    n = length(x) - 1;\n",
    "    for i = 1:n\n",
    "        s = S(i, :);\n",
    "        xx = linspace(x(i), x(i + 1));\n",
    "        yy = s(1);\n",
    "        yy += s(2) * (xx - repmat(x(i), 1, 100));\n",
    "        yy += s(3) * (xx - repmat(x(i), 1, 100)) .^ 2;\n",
    "        yy += s(4) * (xx - repmat(x(i), 1, 100)) .^ 3;\n",
    "        XX = [XX, xx];\n",
    "        YY = [YY, yy];\n",
    "    endfor\n",
    "endfunction\n",
    "\n",
    "function [y] = f(x)\n",
    "    y = 8 * sin(x / 2) ./ (abs(cos(x)) + 1);\n",
    "endfunction\n",
    "\n",
    "% Test 1\n",
    "x = sort((rand(1, 3) - 0.5) * 50);\n",
    "y = f(x);\n",
    "\n",
    "xx = linspace(min(x), max(x));\n",
    "S = spline_c2_natural(x, y);\n",
    "[XX, YY] = spline_eval(S, x, y);\n",
    "\n",
    "subplot(3, 1, 1);\n",
    "hold;\n",
    "plot(XX, YY)\n",
    "plot(XX, f(XX))\n",
    "plot(x, y, 'o', 'markersize', 12)\n",
    "for i = 1:length(x) - 1\n",
    "    assert(norm(YY(100 * (i - 1) + 1) - y(i)) < 1e-4);\n",
    "endfor\n",
    "assert(norm(YY(end) - y(end)) < 1e-4);\n",
    "legend(\"Aproximare\", \"Real\")\n",
    "\n",
    "% Test 2\n",
    "x = sort((rand(1, 10) - 0.5) * 50);\n",
    "y = f(x);\n",
    "\n",
    "xx = linspace(min(x), max(x));\n",
    "S = spline_c2_natural(x, y);\n",
    "[XX, YY] = spline_eval(S, x, y);\n",
    "\n",
    "subplot(3, 1, 2);\n",
    "hold;\n",
    "plot(XX, YY)\n",
    "plot(XX, f(XX))\n",
    "plot(x, y, 'o', 'markersize', 12)\n",
    "for i = 1:length(x) - 1\n",
    "    assert(norm(YY(100 * (i - 1) + 1) - y(i)) < 1e-4);\n",
    "endfor\n",
    "assert(norm(YY(end) - y(end)) < 1e-4);\n",
    "legend(\"Aproximare\", \"Real\")\n",
    "\n",
    "% Test 3\n",
    "x = sort((rand(1, 100) - 0.5) * 50);\n",
    "y = f(x);\n",
    "\n",
    "xx = linspace(min(x), max(x));\n",
    "S = spline_c2_natural(x, y);\n",
    "[XX, YY] = spline_eval(S, x, y);\n",
    "\n",
    "subplot(3, 1, 3);\n",
    "hold;\n",
    "plot(XX, YY)\n",
    "plot(XX, f(XX))\n",
    "plot(x, y, 'o', 'markersize', 12)\n",
    "for i = 1:length(x) - 1\n",
    "    assert(norm(YY(100 * (i - 1) + 1) - y(i)) < 1e-4);\n",
    "endfor\n",
    "assert(norm(YY(end) - y(end)) < 1e-4);\n",
    "legend(\"Aproximare\", \"Real\")"
   ]
  },
  {
   "cell_type": "code",
   "execution_count": 16,
   "metadata": {},
   "outputs": [],
   "source": [
    "% Spline c1 LAB9"
   ]
  },
  {
   "cell_type": "code",
   "execution_count": 17,
   "metadata": {},
   "outputs": [],
   "source": [
    "function yi = SplineC1(x, y, dy, xi)\n",
    "    i = find((x <= xi));\n",
    "    i = max(i);\n",
    "    \n",
    "    if i == length(x)\n",
    "        i = i-1;\n",
    "    endif\n",
    "    \n",
    "    h = (x(i+1)-x(i));\n",
    "    t = (xi - x(i))/(h);\n",
    "    \n",
    "    ai = y(i) * (1-t)^3;\n",
    "    bi = (y(i) + h/3*dy(i))*3*(1-t)^2*t;\n",
    "    ci = (y(i+1) - h/3*dy(i+1))*3*t^2*(1-t);\n",
    "    di = y(i+1)*t^3;\n",
    "    \n",
    "    yi = ai+bi+ci+di;\n",
    "endfunction"
   ]
  },
  {
   "cell_type": "code",
   "execution_count": 18,
   "metadata": {},
   "outputs": [
    {
     "data": {
      "image/png": "[encoded data removed]",
      "text/plain": [
       "<IPython.core.display.Image object>"
      ]
     },
     "metadata": {},
     "output_type": "display_data"
    }
   ],
   "source": [
    "x = 0:pi/3:7*pi;\n",
    "y = sin(x)+cos(3*x);\n",
    "dy = cos(x)-3*sin(3*x);\n",
    "xi = 0:pi/15:7*pi;\n",
    "yi = zeros(1, length(xi));\n",
    "\n",
    "%yi(1) = feval('SplineC1', x, f, df, xi(1))\n",
    "\n",
    "for i = 1 : length(xi)\n",
    "    yi(i) = feval('SplineC1', x, y, dy, xi(i));\n",
    "endfor\n",
    "\n",
    "plot(x, y, 'g-o', xi, yi, 'r-*');\n",
    "legend ('data', 'spline C1');\n",
    "\n",
    "axis([0 23 -2 2.7]);"
   ]
  },
  {
   "cell_type": "code",
   "execution_count": 19,
   "metadata": {},
   "outputs": [],
   "source": [
    "% Spline c1 LAB9"
   ]
  },
  {
   "cell_type": "code",
   "execution_count": 20,
   "metadata": {},
   "outputs": [],
   "source": [
    "function x = Thomas(a, b, c, d)\n",
    "n = length(d);\n",
    "%transform a astfel incat sa aiba n elemente, cu primulelement 0\n",
    "a = [0; a];\n",
    "% Operatiile la limita;\n",
    "c(1) = c(1)/b(1);\n",
    "d(1) = d(1)/b(1);\n",
    "% calculul coeficientilor pe caz general.\n",
    "for i = 2 : n-1\n",
    "    temp = b(i)-a(i)*c(i-1);\n",
    "    c(i) = c(i)/temp;\n",
    "    d(i) = (d(i)-a(i)*d(i-1))/temp;\n",
    "endfor\n",
    "d(n) = (d(n)-a(n)*d(n-1))/(b(n)-a(n)*c(n-1));\n",
    "% Substitutia inapoi pentru rezolvarea sistemului de ecuatii\n",
    "x(n) = d(n);\n",
    "for i = n-1 : -1 : 1\n",
    "    x(i) = d(i)-c(i)*x(i+1);\n",
    "endfor\n",
    "x=x';\n",
    "endfunction"
   ]
  },
  {
   "cell_type": "code",
   "execution_count": 21,
   "metadata": {},
   "outputs": [],
   "source": [
    "function yi = SplineC2natural(x, y, xi)\n",
    "\n",
    "    n = length(x);\n",
    "\n",
    "    index = find((x <= xi));\n",
    "    index = max(index);\n",
    "    \n",
    "    if index == n\n",
    "        index = index -1;\n",
    "    endif\n",
    "\n",
    "    A = eye(n);\n",
    "\n",
    "    h = x(2)-x(1);\n",
    "\n",
    "    for i = 2:n-1\n",
    "        j = i-1;\n",
    "\n",
    "        A(i, j) = h;\n",
    "        j++;\n",
    "        A(i, j) = 4*h;\n",
    "        j++;\n",
    "        A(i, j) = h;\n",
    "\n",
    "    endfor\n",
    "\n",
    "    auri = y;\n",
    "\n",
    "    d = 0;\n",
    "\n",
    "    for i = 2:n-1\n",
    "\n",
    "        d = [d, 3/h*(auri(i+1)-auri(i))-3/h*(auri(i)-auri(i-1))];\n",
    "\n",
    "    endfor\n",
    "\n",
    "    d = [d, 0];\n",
    "\n",
    "    a = diag(A, -1);\n",
    "    b = diag(A, 0);\n",
    "    c = diag(A, 1);\n",
    "\n",
    "    curi = Thomas(a, b, c, d');\n",
    "\n",
    "    buri = zeros(1, n);\n",
    "    duri = zeros(1, n);\n",
    "\n",
    "    for i = 1:n-1\n",
    "\n",
    "        buri(i) = (auri(i+1)- auri(i))/h - h/3*(2*curi(i) + curi(i+1));\n",
    "        duri(i) = (curi(i+1)- curi(i))/(3*h);\n",
    "\n",
    "    endfor\n",
    "\n",
    "    p = [auri(index), buri(index), curi(index), duri(index)];\n",
    "    yi = polyval(p, x(index));\n",
    "endfunction"
   ]
  },
  {
   "cell_type": "code",
   "execution_count": 22,
   "metadata": {},
   "outputs": [
    {
     "name": "stdout",
     "output_type": "stream",
     "text": [
      "ans =  1.1241\r\n"
     ]
    },
    {
     "data": {
      "image/png": "[encoded data removed]",
      "text/plain": [
       "<IPython.core.display.Image object>"
      ]
     },
     "metadata": {},
     "output_type": "display_data"
    }
   ],
   "source": [
    "x = 0:pi/3:7*pi;\n",
    "y = sin(x)+cos(3*x);\n",
    "xi = 0:pi/15:7*pi;\n",
    "\n",
    "for i = 1 : length(xi)\n",
    "    yi(i) = feval('SplineC2natural', x, y, xi(i));\n",
    "endfor\n",
    "yi(1)\n",
    "plot(x, y, 'g-o', xi, yi, 'r-*');\n",
    "legend ('data', 'spline C2 natural');\n",
    "axis([0 23 -2 2.7]);"
   ]
  },
  {
   "cell_type": "markdown",
   "metadata": {},
   "source": [
    "# "
   ]
  },
  {
   "cell_type": "code",
   "execution_count": 23,
   "metadata": {},
   "outputs": [
    {
     "name": "stdout",
     "output_type": "stream",
     "text": [
      "A =\n",
      "\n",
      "   1   2   3\n",
      "   4   5   6\n",
      "   0   8   9\n",
      "\n",
      "a =\n",
      "\n",
      "   2\n",
      "   6\n",
      "\n",
      "b =\n",
      "\n",
      "   1\n",
      "   5\n",
      "   9\n",
      "\n",
      "c =\n",
      "\n",
      "   4\n",
      "   8\n",
      "\n"
     ]
    }
   ],
   "source": [
    "A = [1 2 3; 4 5 6; 0 8 9]\n",
    "a = diag(A, 1)\n",
    "b = diag(A, 0)\n",
    "c = diag(A, -1)"
   ]
  },
  {
   "cell_type": "code",
   "execution_count": 24,
   "metadata": {},
   "outputs": [],
   "source": [
    "function x = Thomas(a, b, c, d)\n",
    "\n",
    "    n = length(d);\n",
    "    \n",
    "    a = [0; a];\n",
    "    \n",
    "    c(1) = c(1)/b(1);\n",
    "    d(1) = d(1)/b(1);\n",
    "\n",
    "    for i = 2:n-1\n",
    "    \n",
    "        temp = b(i) - a(i)*c(i-1);\n",
    "        c(i) = c(i)/temp;\n",
    "        d(i) = (d(i) - a(i)*d(i-1))/temp;\n",
    "    \n",
    "    endfor\n",
    "    d(n) = (d(n)-a(n)*d(n-1))/(b(n)-a(n)*c(n-1));\n",
    "    \n",
    "    x(n) = d(n);\n",
    "    for i = n-1:-1:1\n",
    "        x(i) = d(i) - c(i)*x(i+1);\n",
    "    endfor\n",
    "\n",
    "    x=x';\n",
    "\n",
    "endfunction"
   ]
  },
  {
   "cell_type": "code",
   "execution_count": 27,
   "metadata": {},
   "outputs": [
    {
     "name": "stdout",
     "output_type": "stream",
     "text": [
      "a =\n",
      "\n",
      "   6   4   2\n",
      "\n",
      "b =\n",
      "\n",
      "  -6\n",
      "  -6\n",
      "\n",
      "c =\n",
      "\n",
      "   0\n",
      "   0\n",
      "   0\n",
      "\n",
      "d =\n",
      "\n",
      "   0   0\n",
      "\n",
      "\n",
      "polinom(x(1)) = 6\n",
      "polinom(x(2)) = 4\n"
     ]
    }
   ],
   "source": [
    "x = [0 1 2];\n",
    "f = [6 4 3];\n",
    "n = length(x);\n",
    "Splineuri = zeros(n-1, 4);\n",
    "h = zeros(n-1, 1);\n",
    "for i = 1:n-1\n",
    "    h(i) = x(i+1)-x(i);\n",
    "endfor\n",
    "\n",
    "A = eye(n);\n",
    "\n",
    "a = zeros(n, 1);\n",
    "a = f;\n",
    "for i = 2:n-1\n",
    "\n",
    "    j = i-1;\n",
    "\n",
    "    A(i, j) = h(i-1);\n",
    "    j++;\n",
    "    A(i, j) = 2*(h(i-1) + h(i));\n",
    "    j++;    \n",
    "    A(i, j) = h(i);\n",
    "\n",
    "endfor\n",
    "\n",
    "b = zeros(n, 1);\n",
    "%Spline natural\n",
    "for i = 2:n-1\n",
    "\n",
    "    b(i) = 3/h(i)*(a(i+1)-a(i))-3/h(i-1)*(a(i)-a(i-1));\n",
    "\n",
    "endfor\n",
    "% Spline tensionat\n",
    "\n",
    "%{\n",
    "fderiv = [1 -1];\n",
    "b(1) =  3/h(1)*(a(2)-a(1))-3*fderiv(1);\n",
    "b(n) = 3*fderiv(2)-3*(a(n)-a(n-1))/h(n-1);\n",
    "A(1, 1) = 2*h(1);\n",
    "A(1, 2) = h(1);\n",
    "A(n, n-1) = h(n-1);\n",
    "A(n, n) = 2*h(n-1);\n",
    "%}\n",
    "\n",
    "c = Thomas(diag(A, -1), diag(A), diag(A, 1), b);\n",
    "\n",
    "b = zeros(n-1, 1);\n",
    "for i = 1:n-1\n",
    "\n",
    "    b(i) = (a(i+1)-a(i))/h(i) -  h(i)/3*(2*c(i) + c(i+1));\n",
    "    d(i) =  (c(i+1)-c(i))/(3*h(i));\n",
    "\n",
    "endfor\n",
    "\n",
    "b = 3*b;\n",
    "c = 3*c;\n",
    "for i = 1:n-1\n",
    "    Splineuri(i, :) = [a(i), b(i), c(i), d(i)];\n",
    "endfor\n",
    "\n",
    "\n",
    "a\n",
    "b\n",
    "c\n",
    "d\n",
    "printf(\"\\n\");\n",
    "polinoma = conv(conv([-1, 1], [-1, 1]), [-1, 1]);\n",
    "polinomb = conv(conv([1, 0], [-1, 1]), [-1, 1]);\n",
    "polinomc = conv([1, 0, 0], [-1, 1]);\n",
    "polinomd = [1, 0, 0, 0];\n",
    "\n",
    "polinom = cell(n-1, 4);\n",
    "for i = 1:n-1\n",
    "    polinom(i) = a(i)*polinoma+b(i)*polinomb+c(i)*polinomc+d(i)*polinomd;\n",
    "endfor\n",
    "\n",
    "\n",
    "% verificare\n",
    "for i = 1:n-1\n",
    "    yi = polyval(cell2mat(polinom(i)), 0);\n",
    "    printf(\"polinom(x(%d)) = %d\\n\", i, yi);\n",
    "endfor"
   ]
  },
  {
   "cell_type": "code",
   "execution_count": null,
   "metadata": {},
   "outputs": [],
   "source": []
  }
 ],
 "metadata": {
  "kernelspec": {
   "display_name": "Octave",
   "language": "octave",
   "name": "octave"
  },
  "language_info": {
   "file_extension": ".m",
   "help_links": [
    {
     "text": "GNU Octave",
     "url": "https://www.gnu.org/software/octave/support.html"
    },
    {
     "text": "Octave Kernel",
     "url": "https://github.com/Calysto/octave_kernel"
    },
    {
     "text": "MetaKernel Magics",
     "url": "https://metakernel.readthedocs.io/en/latest/source/README.html"
    }
   ],
   "mimetype": "text/x-octave",
   "name": "octave",
   "version": "4.2.2"
  }
 },
 "nbformat": 4,
 "nbformat_minor": 4
}
