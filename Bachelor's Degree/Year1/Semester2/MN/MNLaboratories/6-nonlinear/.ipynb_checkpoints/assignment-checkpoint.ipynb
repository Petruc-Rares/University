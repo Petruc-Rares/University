{
 "cells": [
  {
   "cell_type": "markdown",
   "metadata": {},
   "source": [
    "Inainte sa trimiti notebook-ul:\n",
    "\n",
    "* asigura-te ca totul se executa cum trebuie. Prima oara, **restarteaza kernel-ul** (in meniu, selecteaza Kernel$\\rightarrow$Restart & Run all);\n",
    "\n",
    "* nu lasa niciun mesaj la output (`disp`, `printf`, linii care nu sunt incheiate cu `;`) in functiile pe care le scrii decat daca ti se specifica explicit sa faci acest lucru! Orice abatere va fi **depunctata automat** de grader;\n",
    "\n",
    "* citeste instructiunile de [aici](https://github.com/radusqrt/numerical-methods/blob/master/lab_instructions.md) cu atentie;\n",
    "\n",
    "* asigura-te ca rezolvi toate celulele in care scrie `YOUR CODE HERE` sau `YOUR ANSWER HERE` si ca iti treci numele mai jos:"
   ]
  },
  {
   "cell_type": "code",
   "execution_count": 1,
   "metadata": {},
   "outputs": [],
   "source": [
    "STUDENT_NAME = \"Petruc_Rares\";"
   ]
  },
  {
   "cell_type": "markdown",
   "metadata": {},
   "source": [
    "---"
   ]
  },
  {
   "cell_type": "markdown",
   "metadata": {
    "deletable": false,
    "editable": false,
    "nbgrader": {
     "cell_type": "markdown",
     "checksum": "dc24e0d69eea64c879c04a0a790c0e22",
     "grade": false,
     "grade_id": "cell-5404251b33cfdb79",
     "locked": true,
     "schema_version": 3,
     "solution": false,
     "task": false
    }
   },
   "source": [
    "# Laborator 6: Soluții ale ecuațiilor neliniare\n",
    "### Autor: Radu Stochitoiu"
   ]
  },
  {
   "cell_type": "markdown",
   "metadata": {
    "deletable": false,
    "editable": false,
    "nbgrader": {
     "cell_type": "markdown",
     "checksum": "5ac060888908ee89a43b3a77c9b23f10",
     "grade": false,
     "grade_id": "cell-00baf1b0987bc11f",
     "locked": true,
     "schema_version": 3,
     "solution": false,
     "task": false
    }
   },
   "source": [
    "## Problema 1\n",
    "\n",
    "Implementati funcția ```bisection(f, a, b, tol, max_steps)``` ce primește un handle la o funcție $f$ (se poate evalua cu ajutorul funcției ```feval```) continuă cu valori reale, capetele unui interval $a$ și $b$, o toleranță sub care se poate opri algoritmul $tol$ și un număr maxim de pași $max\\_steps$ și returnează o rădăcină a lui $f$ aproximată după $steps$ pași, $r$, eroarea de la ultimul pas $err$ și numărul de pași efectuați $steps$."
   ]
  },
  {
   "cell_type": "code",
   "execution_count": 2,
   "metadata": {
    "deletable": false,
    "nbgrader": {
     "cell_type": "code",
     "checksum": "6742f6652a682266aebbc326d368c1a1",
     "grade": false,
     "grade_id": "cell-6ddeddac1b108811",
     "locked": false,
     "schema_version": 3,
     "solution": true,
     "task": false
    }
   },
   "outputs": [],
   "source": [
    "function [r, err, steps] = bisection(f, a, b, tol, max_steps)\n",
    "\n",
    "    steps = 0;\n",
    "    \n",
    "    while 1\n",
    "    \n",
    "        r = (a + b)/2;\n",
    "        \n",
    "        if feval(f, a) * feval(f, r) < 0\n",
    "        \n",
    "            b = r;\n",
    "            \n",
    "        else\n",
    "        \n",
    "            a = r;\n",
    "            \n",
    "        endif\n",
    "        \n",
    "        err = b-a;\n",
    "        \n",
    "        if ((++steps == max_steps) || (err < tol))\n",
    "        \n",
    "            return;\n",
    "        \n",
    "        endif\n",
    "    \n",
    "    endwhile\n",
    "\n",
    "endfunction"
   ]
  },
  {
   "cell_type": "code",
   "execution_count": 31,
   "metadata": {},
   "outputs": [
    {
     "name": "stdout",
     "output_type": "stream",
     "text": [
      "r = -2.0000\n",
      "ans =   -2.7285e-12\n",
      "steps =  42\n"
     ]
    }
   ],
   "source": [
    "function [res] = f(x)\n",
    "    RAB0 = 1;\n",
    "    Is = 3 * 10^(-12);\n",
    "    vT = 0.025;\n",
    "    UAB0 = -2;\n",
    "    % res se obtine prin scaderea graficului\n",
    "    % diodei semiconductoare din graficul \n",
    "    % dreptei de sarcina\n",
    "    res = UAB0/RAB0-x/RAB0-Is*(e^(x/vT)-1);\n",
    "endfunction\n",
    "\n",
    "[r, err, steps] = bisection(@f, -4, 0, 1e-12, 100);\n",
    "r\n",
    "-2/1-r/1\n",
    "steps"
   ]
  },
  {
   "cell_type": "code",
   "execution_count": 4,
   "metadata": {
    "deletable": false,
    "editable": false,
    "nbgrader": {
     "cell_type": "code",
     "checksum": "e00453d251559101b109edfee282c499",
     "grade": true,
     "grade_id": "cell-cd95bc550ff657e1",
     "locked": true,
     "points": 4,
     "schema_version": 3,
     "solution": false,
     "task": false
    }
   },
   "outputs": [],
   "source": [
    "function [res] = f(x)\n",
    "    res = x^3 + cos(x) + e^x + sqrt(x + 1);\n",
    "endfunction\n",
    "\n",
    "[r, err, steps] = bisection(@f, -1, 100, 1e-8, 100);\n",
    "assert(abs(f(r)) < 1e-5);\n",
    "assert(steps < 40);"
   ]
  },
  {
   "cell_type": "code",
   "execution_count": 5,
   "metadata": {},
   "outputs": [
    {
     "name": "stdout",
     "output_type": "stream",
     "text": [
      "warning: division by zero\n",
      "warning: called from\n",
      "    calc at line 21 column 15\n"
     ]
    }
   ],
   "source": [
    "function[x, l] = calc(A, tol, max_steps)\n",
    "\n",
    "    x = [];\n",
    "    l = [];\n",
    "    n = length(A);\n",
    "\n",
    "    for i = 1:n\n",
    "    \n",
    "        prev_x = rand(n, 1);\n",
    "        steps = 0;\n",
    "        \n",
    "        while 1\n",
    "        \n",
    "            for j = 1:size(x, 2)\n",
    "            \n",
    "                prev_x = prev_x - x(:, j)' * prev_x * x(:, j);\n",
    "            \n",
    "            endfor\n",
    "            \n",
    "            x = A*prev_x;\n",
    "            x = x/norm(x);\n",
    "            \n",
    "            lambda = x'*A*x;\n",
    "            err = norm(x - prev_x);\n",
    "            \n",
    "            if ((++steps == max_steps) || (err < tol))\n",
    "            \n",
    "                l = [l, lambda];\n",
    "                x = [x, x];\n",
    "                break;\n",
    "            \n",
    "            endif\n",
    "        \n",
    "            prev_x = x;\n",
    "        \n",
    "        endwhile\n",
    "    \n",
    "    endfor\n",
    "\n",
    "endfunction\n",
    "\n",
    "A = [1 2 2; 2 4 5; 2 5 10];\n",
    "[x, l] = calc(A, 1e-5, 300);"
   ]
  },
  {
   "cell_type": "markdown",
   "metadata": {
    "deletable": false,
    "editable": false,
    "nbgrader": {
     "cell_type": "markdown",
     "checksum": "946978524bff66fd99319ed9ea0c72f6",
     "grade": false,
     "grade_id": "cell-35469cb3504a3728",
     "locked": true,
     "schema_version": 3,
     "solution": false,
     "task": false
    }
   },
   "source": [
    "## Problema 2\n",
    "\n",
    "Implementați funcția ```newton_raphson(f, df, x0, tol, max_steps)``` ce primește un handle la o funcție $f$ (se poate evalua cu ajutorul funcției ```feval```) continuă cu valori reale, un handle la derivata lui $f$, $df$, o aproximare inițială a soluției $x_0$, o toleranță sub care se poate opri algoritmul $tol$ și un număr maxim de pași $max\\_steps$ și returnează o rădăcină a lui $f$ aproximată după $steps$ pași, $r$, eroarea de la ultimul pas $err$ și numărul de pași efectuați $steps$."
   ]
  },
  {
   "cell_type": "code",
   "execution_count": 6,
   "metadata": {
    "deletable": false,
    "nbgrader": {
     "cell_type": "code",
     "checksum": "014942549aa3f3924cbe2a202099ced0",
     "grade": false,
     "grade_id": "cell-02ab110a8c5c0279",
     "locked": false,
     "schema_version": 3,
     "solution": true,
     "task": false
    }
   },
   "outputs": [],
   "source": [
    "function [r, err, steps] = newton_raphson(f, df, x0, tol, max_steps)\n",
    "\n",
    "    steps = 0;\n",
    "    \n",
    "    prev_r = x0;\n",
    "    \n",
    "        while 1\n",
    "    \n",
    "        r = prev_r - f(prev_r)/df(prev_r);\n",
    "        \n",
    "        err = norm(r - prev_r);\n",
    "        \n",
    "        if ((++steps == max_steps) || (err < tol))\n",
    "        \n",
    "            return;\n",
    "        \n",
    "        endif\n",
    "        \n",
    "        prev_r = r;\n",
    "    \n",
    "    endwhile\n",
    "\n",
    "endfunction"
   ]
  },
  {
   "cell_type": "code",
   "execution_count": 7,
   "metadata": {
    "deletable": false,
    "editable": false,
    "nbgrader": {
     "cell_type": "code",
     "checksum": "40e3a8b00bd8c89a91deb056c88b16ce",
     "grade": true,
     "grade_id": "cell-c889e72278c169c5",
     "locked": true,
     "points": 3,
     "schema_version": 3,
     "solution": false,
     "task": false
    }
   },
   "outputs": [],
   "source": [
    "function [res] = f(x)\n",
    "    res = x^2 - 3;\n",
    "endfunction\n",
    "\n",
    "function [res] = df(x)\n",
    "    res = 2 * x;\n",
    "endfunction\n",
    "\n",
    "[r, err, steps] = newton_raphson(@f, @df, 1.7, 1e-8, 100);\n",
    "assert(f(r) < 1e-10);\n",
    "assert(steps < 5);\n",
    "\n",
    "[r, err, steps] = newton_raphson(@f, @df, 31231, 1e-8, 100);\n",
    "assert(f(r) < 1e-10);\n",
    "assert(steps < 25);\n"
   ]
  },
  {
   "cell_type": "markdown",
   "metadata": {
    "deletable": false,
    "editable": false,
    "nbgrader": {
     "cell_type": "markdown",
     "checksum": "7a2af1e506945e0ddff991fb6ff524d5",
     "grade": false,
     "grade_id": "cell-29e36e8fdb87322d",
     "locked": true,
     "schema_version": 3,
     "solution": false,
     "task": false
    }
   },
   "source": [
    "## Problema 3\n",
    "\n",
    "Implementați funcția ```secant(f, x0, x1, tol, max_steps)``` ce primește un handle la o funcție $f$ (se poate evalua cu ajutorul funcției ```feval```) continuă cu valori reale, două aproximări inițiale ale soluției $x_0$ și $x_1$, o toleranță sub care se poate opri algoritmul $tol$ și un număr maxim de pași $max\\_steps$ și returnează o rădăcină a lui $f$ aproximată după $steps$ pași, $r$, eroarea de la ultimul pas $err$ și numărul de pași efectuați $steps$."
   ]
  },
  {
   "cell_type": "code",
   "execution_count": 8,
   "metadata": {
    "deletable": false,
    "nbgrader": {
     "cell_type": "code",
     "checksum": "d27c2dc1a01dade06937f9b823825004",
     "grade": false,
     "grade_id": "cell-875f735ed880fd42",
     "locked": false,
     "schema_version": 3,
     "solution": true,
     "task": false
    }
   },
   "outputs": [],
   "source": [
    "function [r, err, steps] = secant(f, x0, x1, tol, max_steps)\n",
    "\n",
    "    steps = 0;\n",
    "    \n",
    "    prev_prev_r = x0;\n",
    "    prev_r = x1;\n",
    "    \n",
    "   while 1\n",
    "    \n",
    "        r = prev_r - (prev_prev_r - prev_r)*(f(prev_r))/(f(prev_prev_r) - f(prev_r));\n",
    "        \n",
    "        err = norm(r - prev_r);\n",
    "        \n",
    "        if ((++steps == max_steps) || (err < tol))\n",
    "        disp(steps);\n",
    "        disp(err);\n",
    "            return;\n",
    "        \n",
    "        endif\n",
    "        \n",
    "        prev_prev_r = prev_r;\n",
    "        prev_r = r;\n",
    "    \n",
    "    endwhile\n",
    "\n",
    "\n",
    "endfunction"
   ]
  },
  {
   "cell_type": "code",
   "execution_count": 9,
   "metadata": {},
   "outputs": [
    {
     "name": "stdout",
     "output_type": "stream",
     "text": [
      " 2\n",
      "0\n",
      "r = -4\n",
      "steps =  2\n"
     ]
    }
   ],
   "source": [
    "function [res] = f(x)\n",
    "    Rab = 1;\n",
    "    Is = 3 * 10^(-12);\n",
    "    vT = 0.025;\n",
    "    res = -2-x-Rab*Is*(e.^(x/vT)-1);\n",
    "endfunction\n",
    "\n",
    "[r, err, steps] = secant(@f, -4, 8, 1e-4, 100);\n",
    "r\n",
    "steps"
   ]
  },
  {
   "cell_type": "code",
   "execution_count": 10,
   "metadata": {
    "deletable": false,
    "editable": false,
    "nbgrader": {
     "cell_type": "code",
     "checksum": "301272fe7a282294c2aa2f38ed19c08b",
     "grade": true,
     "grade_id": "cell-129e8ad1b71add3b",
     "locked": true,
     "points": 3,
     "schema_version": 3,
     "solution": false,
     "task": false
    }
   },
   "outputs": [
    {
     "name": "stdout",
     "output_type": "stream",
     "text": [
      " 4\n",
      "   1.6606e-09\n",
      " 20\n",
      "   2.1974e-10\n"
     ]
    }
   ],
   "source": [
    "function [res] = f(x)\n",
    "    res = x^2 - 3;\n",
    "endfunction\n",
    "\n",
    "[r, err, steps] = secant(@f, 1.65, 1.7, 1e-8, 100);\n",
    "assert(f(r) < 1e-10);\n",
    "assert(steps < 5);\n",
    "\n",
    "[r, err, steps] = secant(@f, 312312, 1000, 1e-8, 100);\n",
    "assert(f(r) < 1e-10);\n",
    "assert(steps < 25);"
   ]
  },
  {
   "cell_type": "markdown",
   "metadata": {
    "deletable": false,
    "editable": false,
    "nbgrader": {
     "cell_type": "markdown",
     "checksum": "987cffce87ff0d7f0fb71c42af94e590",
     "grade": false,
     "grade_id": "cell-2bfe306aa67091df",
     "locked": true,
     "schema_version": 3,
     "solution": false,
     "task": false
    }
   },
   "source": [
    "## Problema 4\n",
    "\n",
    "Implementați funcția ```newton(F_handles, x0, tol, max_steps, h)``` ce primește un cell array ce conține un număr variabil de handles la funcții $f_i$ (se pot evalua cu ajutorul funcției ```feval```) continue cu valori reale, un vector $x_0$ cu aproximarea inițială a sistemului de ecuații neliniare $F(x) = 0$, o toleranță sub care se poate opri algoritmul $tol$, un număr maxim de pași $max\\_steps$ și o variabilă ce va ajuta la aproximarea valorilor matricei jacobiene $h$ și returnează un vector $r$ de rădăcini ale sistemului neliniar $F(x) = 0$.\n",
    "\n",
    "Aproximarea lui $\\frac{\\partial f_i}{\\partial x_j}$ se face folosind metoda diferențelor finite (preferabil a doua din laborator)."
   ]
  },
  {
   "cell_type": "code",
   "execution_count": 11,
   "metadata": {
    "deletable": false,
    "nbgrader": {
     "cell_type": "code",
     "checksum": "4851b45f84d3b5925e619085b7bd0e90",
     "grade": false,
     "grade_id": "cell-50f78d00c3654390",
     "locked": false,
     "schema_version": 3,
     "solution": true,
     "task": false
    }
   },
   "outputs": [],
   "source": [
    "function [r, err, steps] = secant(F_handles, x0, tol, max_steps, h)\n",
    "\n",
    "    steps = 0;\n",
    "    noFunctions = size(F_handles)(1);\n",
    "    noParametres = size(x0)(1);\n",
    "    \n",
    "    Fx0 = zeros(noFunctions, 1);\n",
    "    DFx0 = zeros(noFunctions, noParametres);\n",
    "    \n",
    "    prev_r = x0;\n",
    "    \n",
    "    while 1\n",
    "\n",
    "        for i = 1:noFunctions\n",
    "\n",
    "            %formam vectorul coloana\n",
    "            Fx0(i, 1) = F_handles{i}(prev_r);\n",
    "\n",
    "            for j =1:noParametres\n",
    "\n",
    "                aux1 = prev_r;\n",
    "                aux1(j) = aux1(j) + h;\n",
    "\n",
    "                aux2 = prev_r;\n",
    "                aux2(j) = aux2(j) - h;\n",
    "\n",
    "                DFx0(i, j) = 1/(2*h)*(F_handles{i}(aux1) - F_handles{i}(aux2));\n",
    "\n",
    "            endfor\n",
    "\n",
    "        endfor\n",
    "\n",
    "        [L, U] = Crout(DFx0, -Fx0);\n",
    "        y = SIT(L, -Fx0);\n",
    "        delta = SST(U, y);\n",
    "\n",
    "        r = prev_r + delta;\n",
    "\n",
    "        err = norm(r - prev_r);\n",
    "\n",
    "        if ((++steps == max_steps) || (err < tol))\n",
    "\n",
    "            return;\n",
    "\n",
    "        endif\n",
    "\n",
    "        prev_r = r;\n",
    "\n",
    "    endwhile\n",
    "\n",
    "endfunction\n",
    "\n",
    "function [x] = SST(A, b)\n",
    "\n",
    "    n = length(b);\n",
    "    x = zeros(n,1);\n",
    "\n",
    "    for i = [n:-1:1]\n",
    "    \n",
    "        x(i, 1) = (b(i)-A(i, [1:n])*x)/A(i, i);\n",
    "        \n",
    "    endfor\n",
    "    \n",
    "endfunction\n",
    "\n",
    "function [x] = SIT(A, b)\n",
    "    n = length(b);\n",
    "    x = zeros(n, 1);\n",
    "    for i = 1:n\n",
    "        x(i, 1) = (b(i) - A(i,1:i-1)*x(1:i-1, 1))/A(i,i);\n",
    "    endfor\n",
    "endfunction\n",
    "\n",
    "function [L, U] = Crout(A)\n",
    "    n = length(A);\n",
    "    L = zeros(n);\n",
    "    U = eye(n);\n",
    "    for k = 1:n\n",
    "        for i = k:n\n",
    "            L(i, k) = A(i, k) - L(i, 1:k-1) * U(1:k-1, k);\n",
    "        endfor\n",
    "        for j = k+1:n\n",
    "            U(k, j) = 1/L(k,k) * (A(k,j) - L(k, 1:k - 1) * U(1:k-1, j));\n",
    "        endfor\n",
    "    endfor\n",
    "endfunction"
   ]
  },
  {
   "cell_type": "code",
   "execution_count": 12,
   "metadata": {},
   "outputs": [],
   "source": [
    "function [lambda, x, err, steps] = MPD(A, x0, tol, max_steps)\n",
    "\n",
    "    steps = 0;\n",
    "    prev_x = x0;\n",
    "    while 1\n",
    "    \n",
    "        x = A*prev_x;\n",
    "        x = x/norm(x);\n",
    "        lambda = x'*A*x;\n",
    "        err = norm(x - prev_x);\n",
    "        \n",
    "        if ((++steps == max_steps) || (err < tol))\n",
    "        \n",
    "            return;\n",
    "        \n",
    "        endif\n",
    "    \n",
    "        prev_x = x;\n",
    "    \n",
    "    endwhile\n",
    "\n",
    "endfunction\n",
    "\n",
    "A = [14 2 13 3; 2 5 2 4; 13 2 17 6; 3 4 6 6];\n",
    "[lambda, x, err, steps] = MPD(A, rand(4, 1), 1e-4, 100);\n",
    "\n",
    "function [lambda, x, err, steps] = MPID(A, x0, tol, max_steps)\n",
    "\n",
    "    invA = inv(A);\n",
    "    steps = 0;\n",
    "    prev_x = x0;\n",
    "    while 1\n",
    "    \n",
    "        x = invA*prev_x;\n",
    "        x = x/norm(x);\n",
    "        lambda = x'*A*x;\n",
    "        err = norm(x - prev_x);\n",
    "        \n",
    "        if ((++steps == max_steps) || (err < tol))\n",
    "        \n",
    "            return;\n",
    "        \n",
    "        endif\n",
    "    \n",
    "        prev_x = x;\n",
    "    \n",
    "    endwhile\n",
    "\n",
    "endfunction\n",
    "\n",
    "function [lambda, x, err, steps] = MPID(A, x0, tol, max_steps, alpha)\n",
    "\n",
    "    invA = inv(A-alpha*eye(length(A)));\n",
    "    steps = 0;\n",
    "    prev_x = x0;\n",
    "    while 1\n",
    "    \n",
    "        x = invA*prev_x;\n",
    "        x = x/norm(x);\n",
    "        lambda = x'*A*x;\n",
    "        err = norm(x - prev_x);\n",
    "        \n",
    "        if ((++steps == max_steps) || (err < tol))\n",
    "        \n",
    "            return;\n",
    "        \n",
    "        endif\n",
    "    \n",
    "        prev_x = x;\n",
    "    \n",
    "    endwhile\n",
    "\n",
    "endfunction\n",
    "\n",
    "A = [14 2 13 3; 2 5 2 4; 13 2 17 6; 3 4 6 6];\n",
    "[lambda, x, err, steps] = MPID(A, rand(4, 1), 1e-4, 100, 100);"
   ]
  },
  {
   "cell_type": "code",
   "execution_count": 13,
   "metadata": {
    "deletable": false,
    "editable": false,
    "nbgrader": {
     "cell_type": "code",
     "checksum": "84fea60840eb37cfddcd99d29737edd6",
     "grade": true,
     "grade_id": "cell-1b460dfff99608a3",
     "locked": true,
     "points": 3,
     "schema_version": 3,
     "solution": false,
     "task": false
    }
   },
   "outputs": [],
   "source": [
    "function [res] = f1(x)\n",
    "    res = x(1) + 2 * x(2) - 2;\n",
    "endfunction\n",
    "\n",
    "function [res] = f2(x)\n",
    "    res = x(1)^2 + 4 * x(2)^2 - 4;\n",
    "endfunction\n",
    "\n",
    "[R, err, steps] = secant({@f1; @f2}, rand(2, 1), 1e-5, 100, 1e-5);\n",
    "assert(norm(f1(R)) < 1e-10);\n",
    "assert(norm(f1(R)) < 1e-10);\n",
    "assert(steps < 10);"
   ]
  },
  {
   "cell_type": "code",
   "execution_count": null,
   "metadata": {},
   "outputs": [],
   "source": []
  },
  {
   "cell_type": "code",
   "execution_count": null,
   "metadata": {},
   "outputs": [],
   "source": []
  }
 ],
 "metadata": {
  "kernelspec": {
   "display_name": "Octave",
   "language": "octave",
   "name": "octave"
  },
  "language_info": {
   "file_extension": ".m",
   "help_links": [
    {
     "text": "GNU Octave",
     "url": "https://www.gnu.org/software/octave/support.html"
    },
    {
     "text": "Octave Kernel",
     "url": "https://github.com/Calysto/octave_kernel"
    },
    {
     "text": "MetaKernel Magics",
     "url": "https://metakernel.readthedocs.io/en/latest/source/README.html"
    }
   ],
   "mimetype": "text/x-octave",
   "name": "octave",
   "version": "4.2.2"
  }
 },
 "nbformat": 4,
 "nbformat_minor": 4
}
