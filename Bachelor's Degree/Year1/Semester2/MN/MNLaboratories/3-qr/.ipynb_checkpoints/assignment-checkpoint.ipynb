{
 "cells": [
  {
   "cell_type": "markdown",
   "metadata": {},
   "source": [
    "Inainte sa trimiti notebook-ul:\n",
    "\n",
    "* asigura-te ca totul se executa cum trebuie. Prima oara, **restarteaza kernel-ul** (in meniu, selecteaza Kernel$\\rightarrow$Restart & Run all);\n",
    "\n",
    "* nu lasa niciun mesaj la output (`disp`, `printf`, linii care nu sunt incheiate cu `;`) in functiile pe care le scrii decat daca ti se specifica explicit sa faci acest lucru! Orice abatere va fi **depunctata automat** de grader;\n",
    "\n",
    "* citeste instructiunile de [aici](https://github.com/radusqrt/numerical-methods/blob/master/lab_instructions.md) cu atentie;\n",
    "\n",
    "* asigura-te ca rezolvi toate celulele in care scrie `YOUR CODE HERE` sau `YOUR ANSWER HERE` si ca iti treci numele mai jos:"
   ]
  },
  {
   "cell_type": "code",
   "execution_count": 1,
   "metadata": {},
   "outputs": [],
   "source": [
    "STUDENT_NAME = \"PETRUC_RARES\";"
   ]
  },
  {
   "cell_type": "markdown",
   "metadata": {},
   "source": [
    "---"
   ]
  },
  {
   "cell_type": "markdown",
   "metadata": {
    "deletable": false,
    "editable": false,
    "nbgrader": {
     "cell_type": "markdown",
     "checksum": "cd9b6b0762d20a50765496f3f2f82cee",
     "grade": false,
     "grade_id": "cell-c0cff62c7b1fdeba",
     "locked": true,
     "schema_version": 3,
     "solution": false,
     "task": false
    }
   },
   "source": [
    "# Laborator 3: Factorizari QR\n",
    "### Autor: Radu Stochitoiu"
   ]
  },
  {
   "cell_type": "markdown",
   "metadata": {
    "deletable": false,
    "editable": false,
    "nbgrader": {
     "cell_type": "markdown",
     "checksum": "c76ac74c1860f2c4c7d084d7e61db9d1",
     "grade": false,
     "grade_id": "cell-a3fd75263f197aba",
     "locked": true,
     "schema_version": 3,
     "solution": false,
     "task": false
    }
   },
   "source": [
    "## Functii ajutatoare    "
   ]
  },
  {
   "cell_type": "code",
   "execution_count": 2,
   "metadata": {
    "deletable": false,
    "editable": false,
    "nbgrader": {
     "cell_type": "code",
     "checksum": "fd5ec08dd8134a31256cce446b08b164",
     "grade": false,
     "grade_id": "cell-ebc07a0ed9284ef0",
     "locked": true,
     "schema_version": 3,
     "solution": false,
     "task": false
    }
   },
   "outputs": [],
   "source": [
    "function [res] = isequal(A, B)\n",
    "    res = norm(A - B) < 1e-8;\n",
    "endfunction\n",
    "\n",
    "function [res] = custom_istriu(A)\n",
    "    A(A < 1e-8) = 0;\n",
    "    res = istriu(A);\n",
    "endfunction\n",
    "\n",
    "function custom_assert(A, f)\n",
    "    [Q, R] = f(A);\n",
    "    assert(isequal(Q * R, A));\n",
    "    assert(isequal(Q * Q', eye(size(A))));\n",
    "    assert(custom_istriu(R));\n",
    "endfunction"
   ]
  },
  {
   "cell_type": "markdown",
   "metadata": {
    "deletable": false,
    "editable": false,
    "nbgrader": {
     "cell_type": "markdown",
     "checksum": "a1a55b4c9e8aabd23c1fedc29ba30c38",
     "grade": false,
     "grade_id": "cell-19f895ab29f974c1",
     "locked": true,
     "schema_version": 3,
     "solution": false,
     "task": false
    }
   },
   "source": [
    "## Problema 1\n",
    "\n",
    "Implementati functia ```GrammSchmidt(A)``` ce primeste ca parametru o matrice $A$ nu neaparat patratica, de lungime pozitiva si returneaza cele doua matrici $Q$ (ortogonala) si $R$ (superior triunghiulara) in care se descompune matricea $A$."
   ]
  },
  {
   "cell_type": "code",
   "execution_count": 3,
   "metadata": {
    "deletable": false,
    "nbgrader": {
     "cell_type": "code",
     "checksum": "d5230fc5d1501eba79a60f6ee1b210d4",
     "grade": false,
     "grade_id": "cell-1b67c8fcd901e9e4",
     "locked": false,
     "schema_version": 3,
     "solution": true,
     "task": false
    }
   },
   "outputs": [],
   "source": [
    "function [Q, R] = GrammSchmidt(A)\n",
    "nl = size(A)(1);\n",
    "nc = size(A)(2);\n",
    "Q = zeros(nl, nl);\n",
    "for i = 1:nl\n",
    "    s = 0;\n",
    "    for k = 1:i-1\n",
    "        s += dot(A(:, i), Q(:, k)) * Q(:, k);\n",
    "    endfor\n",
    "    Q(:, i) = A(:, i) - s;\n",
    "    Q(:, i) = Q(:, i) / norm(Q(:, i));\n",
    "endfor\n",
    "R = zeros(nl, nc);\n",
    "R = Q' * A;\n",
    "endfunction"
   ]
  },
  {
   "cell_type": "code",
   "execution_count": 4,
   "metadata": {
    "deletable": false,
    "editable": false,
    "nbgrader": {
     "cell_type": "code",
     "checksum": "9f15983d97b6ac7cef5e3130496ee43d",
     "grade": true,
     "grade_id": "cell-a7748a9190bcdb0f",
     "locked": true,
     "points": 3,
     "schema_version": 3,
     "solution": false,
     "task": false
    }
   },
   "outputs": [],
   "source": [
    "A_one_elem = [5];\n",
    "A_handmade = [1 2 2; 2 5 7; 3 9 17];\n",
    "aux = rand(3); A_rand3 = aux * aux';\n",
    "aux = rand(10); A_rand10 = aux * aux';\n",
    "\n",
    "custom_assert(A_one_elem, @GrammSchmidt);\n",
    "custom_assert(A_handmade, @GrammSchmidt);\n",
    "custom_assert(A_rand3, @GrammSchmidt);\n",
    "custom_assert(A_rand10, @GrammSchmidt);"
   ]
  },
  {
   "cell_type": "markdown",
   "metadata": {
    "deletable": false,
    "editable": false,
    "nbgrader": {
     "cell_type": "markdown",
     "checksum": "73cf2cdf79918e6c84963a8886a31a63",
     "grade": false,
     "grade_id": "cell-0ef8baaaad32a2c8",
     "locked": true,
     "schema_version": 3,
     "solution": false,
     "task": false
    }
   },
   "source": [
    "## Problema 2\n",
    "\n",
    "Implementati functia ```Givens(A)``` ce primeste ca parametru o matrice $A$ nu neaparat patratica, de lungime pozitiva si returneaza cele doua matrici $Q$ (ortogonala) si $R$ (superior triunghiulara) in care se descompune matricea $A$."
   ]
  },
  {
   "cell_type": "code",
   "execution_count": 5,
   "metadata": {
    "deletable": false,
    "nbgrader": {
     "cell_type": "code",
     "checksum": "74657178f9f584f58f50a8862ee9c9da",
     "grade": false,
     "grade_id": "cell-c98dbd451d1a7cdb",
     "locked": false,
     "schema_version": 3,
     "solution": true,
     "task": false
    }
   },
   "outputs": [],
   "source": [
    "function [Q, R] = Givens(A)\n",
    "nl = size(A)(1);\n",
    "nc = size(A)(2);\n",
    "Q = eye(nl, nl);\n",
    "% j = k\n",
    "% i = l\n",
    "for j = 1:nc-1\n",
    "    for i = j+1:nl\n",
    "        G = eye(nl, nl);\n",
    "        r = sqrt(power(A(j, j), 2) + power(A(i, j), 2));\n",
    "        if r == 0\n",
    "            break;\n",
    "        else\n",
    "        G(i, i) = G(j, j) = A(j, j) / r;\n",
    "        G(i, j) = -A(i, j) / r;\n",
    "        G(j, i) = -G(i, j);\n",
    "        endif\n",
    "        Q = Q * G';\n",
    "        A = G * A;\n",
    "    endfor\n",
    "endfor\n",
    "R=A;\n",
    "endfunction"
   ]
  },
  {
   "cell_type": "code",
   "execution_count": 6,
   "metadata": {
    "deletable": false,
    "editable": false,
    "nbgrader": {
     "cell_type": "code",
     "checksum": "93a896ab5b8a39af10f3f014c9eba9bb",
     "grade": true,
     "grade_id": "cell-8691b7714ff7a08c",
     "locked": true,
     "points": 3,
     "schema_version": 3,
     "solution": false,
     "task": false
    }
   },
   "outputs": [],
   "source": [
    "A_one_elem = [5];\n",
    "A_handmade = [1 2 2; 2 5 7; 3 9 17];\n",
    "aux = rand(3); A_rand3 = aux * aux';\n",
    "aux = rand(10); A_rand10 = aux * aux';\n",
    "\n",
    "custom_assert(A_one_elem, @Givens);\n",
    "custom_assert(A_handmade, @Givens);\n",
    "custom_assert(A_rand3, @Givens);\n",
    "custom_assert(A_rand10, @Givens);"
   ]
  },
  {
   "cell_type": "markdown",
   "metadata": {
    "deletable": false,
    "editable": false,
    "nbgrader": {
     "cell_type": "markdown",
     "checksum": "7f29d226107faac795b7f17583c99791",
     "grade": false,
     "grade_id": "cell-57e4844d50a75e01",
     "locked": true,
     "schema_version": 3,
     "solution": false,
     "task": false
    }
   },
   "source": [
    "## Problema 3\n",
    "\n",
    "Implementati functia ```Householder(A)``` ce primeste ca parametru o matrice $A$ nu neaparat patratica, de lungime pozitiva si returneaza cele doua matrici $Q$ (ortogonala) si $R$ (superior triunghiulara) in care se descompune matricea $A$."
   ]
  },
  {
   "cell_type": "code",
   "execution_count": 17,
   "metadata": {
    "deletable": false,
    "nbgrader": {
     "cell_type": "code",
     "checksum": "316c17bf92d0420c3fb06dfc01ceb448",
     "grade": false,
     "grade_id": "cell-365321778b3a1ee6",
     "locked": false,
     "schema_version": 3,
     "solution": true,
     "task": false
    }
   },
   "outputs": [],
   "source": [
    "function [x] = nrPivoti(nl, nc)\n",
    "    if (nl <= nc)\n",
    "        x = nl - 1;\n",
    "    else\n",
    "        x = nc;\n",
    "    endif\n",
    "endfunction\n",
    "\n",
    "% am facut toata functia asta in loc sa inmultesc efectiv H cu A pentru ca\n",
    "% operatiile de inmultire realizate asupra elementelor corespunzatoare\n",
    "% de sub pivot se efectueaza degeaba(noi stim deja ca valorile de sub pivot sunt 0)\n",
    "% iar in cazul matricilor mari am economisi timp prin apelarea acestei functii\n",
    "function [x] = construieste(A, H, j)\n",
    "    nl = size(A)(1);\n",
    "    nc = size(A)(2);\n",
    "    auxA = zeros(nl, nc);\n",
    "    auxA = A;\n",
    "    x = zeros(nl);\n",
    "    % tot  ce e dupa coloana j in matricea A se calculeaza\n",
    "    \n",
    "    A(:, [j+1:nc]) = H * auxA(:, [j+1:nc]);\n",
    "    \n",
    "    %tot ce deasupra la pivot (sau pivotul) se calculeaza\n",
    "\n",
    "    A([1:j], j) = H([1:j], :) * auxA(:, j);\n",
    "    \n",
    "    % tot ce e sub pivot este egal cu 0\n",
    "    A(j+1:nl, j) = 0;\n",
    "    \n",
    "    x = A;\n",
    "endfunction\n",
    "\n",
    "function [Q, R] = Householder(A)\n",
    "    nl = size(A)(1);\n",
    "    nc = size(A)(2);\n",
    "    Q = eye(nl, nl);\n",
    "\n",
    "    nb = nrPivoti(nl, nc);\n",
    "\n",
    "    for j = 1:nb\n",
    "    \n",
    "        v = zeros(nl, 1);\n",
    "        H = eye(nl, nl);\n",
    "        \n",
    "        simbol = sign(A(j, j))*norm(A(j:nl,j));\n",
    "        v(j, 1) = A(j, j) + simbol;\n",
    "        \n",
    "        v([j+1:nl], 1) = A([j+1:nl], j);\n",
    "        \n",
    "        chestie = 2 * v * v' /(v'*v);\n",
    "        H = H - chestie;\n",
    "        Q = Q * H';\n",
    "        A = construieste(A, H, j);\n",
    "        \n",
    "    endfor\n",
    "    \n",
    "    R = A;\n",
    "    \n",
    "endfunction"
   ]
  },
  {
   "cell_type": "code",
   "execution_count": 18,
   "metadata": {
    "deletable": false,
    "editable": false,
    "nbgrader": {
     "cell_type": "code",
     "checksum": "f884891f94ab94645677d09291761573",
     "grade": true,
     "grade_id": "cell-695e5ae689d4552b",
     "locked": true,
     "points": 3,
     "schema_version": 3,
     "solution": false,
     "task": false
    }
   },
   "outputs": [],
   "source": [
    "A_one_elem = [5];\n",
    "A_handmade = [1 2 2; 2 5 7; 3 9 17];\n",
    "aux = rand(3); A_rand3 = aux * aux';\n",
    "aux = rand(10); A_rand10 = aux * aux';\n",
    "\n",
    "custom_assert(A_one_elem, @Householder);\n",
    "custom_assert(A_handmade, @Householder);\n",
    "custom_assert(A_rand3, @Householder);\n",
    "custom_assert(A_rand10, @Householder);"
   ]
  },
  {
   "cell_type": "markdown",
   "metadata": {
    "deletable": false,
    "editable": false,
    "nbgrader": {
     "cell_type": "markdown",
     "checksum": "895207a8b7315bff7e217a43ff7b11b2",
     "grade": false,
     "grade_id": "cell-780adc57e7825429",
     "locked": true,
     "schema_version": 3,
     "solution": false,
     "task": false
    }
   },
   "source": [
    "## Problema 4\n",
    "\n",
    "Implementati functia ```custom_norm(x, p)``` ce primeste ca parametru un vector $x$ de lungime pozitiva si returneaza norma de ordin $p$ a lui $x$. $p$ poate lua si valoarea $inf$."
   ]
  },
  {
   "cell_type": "code",
   "execution_count": 9,
   "metadata": {
    "deletable": false,
    "nbgrader": {
     "cell_type": "code",
     "checksum": "1a7c015882b550dfe37ba4cdbdeb4423",
     "grade": false,
     "grade_id": "cell-ba465a8c649483e5",
     "locked": false,
     "schema_version": 3,
     "solution": true,
     "task": false
    }
   },
   "outputs": [],
   "source": [
    "function [res] = custom_norm(x, p)\n",
    "normp = 0;\n",
    "% se testeaza daca norma este infinita\n",
    "if p == inf\n",
    "    res = max(abs(x));\n",
    "    return;\n",
    "endif\n",
    "% se verifica daca vectorul contine doar 1 elem\n",
    "if(size(x)(1) == size(x)(2))\n",
    "normp += power(x(i, 1), p);\n",
    "% sau daca vectorul este vertical\n",
    "elseif (size(x)(2) == 1)\n",
    "for i = 1:size(x)(1)\n",
    "    normp += power(x(i, 1), p); \n",
    "endfor\n",
    "% sau daca vectorul este orizontal\n",
    "elseif (size(x)(1) == 1)\n",
    "for i = 1:size(x)(2)\n",
    "    normp += power(x(1, i), p); \n",
    "endfor\n",
    "endif\n",
    "normp = power(normp, 1/p);\n",
    "res = normp;\n",
    "endfunction"
   ]
  },
  {
   "cell_type": "code",
   "execution_count": 10,
   "metadata": {
    "deletable": false,
    "editable": false,
    "nbgrader": {
     "cell_type": "code",
     "checksum": "08f0679999c0cabf2d8eb7850ff69498",
     "grade": true,
     "grade_id": "cell-7f578ee159e3ec17",
     "locked": true,
     "points": 1,
     "schema_version": 3,
     "solution": false,
     "task": false
    }
   },
   "outputs": [],
   "source": [
    "x1 = [1 2 3];\n",
    "x2 = rand(20, 1);\n",
    "x3 = rand(100, 1);\n",
    "\n",
    "assert(isequal(norm(x1, 2), custom_norm(x1, 2)));\n",
    "assert(isequal(norm(x2, 2), custom_norm(x2, 2)));\n",
    "assert(isequal(norm(x3, 2), custom_norm(x3, 2)));\n",
    "\n",
    "assert(isequal(norm(x1, 5), custom_norm(x1, 5)));\n",
    "assert(isequal(norm(x2, 5), custom_norm(x2, 5)));\n",
    "assert(isequal(norm(x3, 5), custom_norm(x3, 5)));\n",
    "\n",
    "assert(isequal(norm(x1, inf), custom_norm(x1, inf)));\n",
    "assert(isequal(norm(x2, inf), custom_norm(x2, inf)));\n",
    "assert(isequal(norm(x3, inf), custom_norm(x3, inf)));"
   ]
  },
  {
   "cell_type": "code",
   "execution_count": null,
   "metadata": {},
   "outputs": [],
   "source": []
  }
 ],
 "metadata": {
  "kernelspec": {
   "display_name": "Octave",
   "language": "octave",
   "name": "octave"
  },
  "language_info": {
   "file_extension": ".m",
   "help_links": [
    {
     "text": "GNU Octave",
     "url": "https://www.gnu.org/software/octave/support.html"
    },
    {
     "text": "Octave Kernel",
     "url": "https://github.com/Calysto/octave_kernel"
    },
    {
     "text": "MetaKernel Magics",
     "url": "https://metakernel.readthedocs.io/en/latest/source/README.html"
    }
   ],
   "mimetype": "text/x-octave",
   "name": "octave",
   "version": "4.2.2"
  }
 },
 "nbformat": 4,
 "nbformat_minor": 4
}
