{
 "cells": [
  {
   "cell_type": "markdown",
   "metadata": {},
   "source": [
    "Inainte sa trimiti notebook-ul:\n",
    "\n",
    "* asigura-te ca totul se executa cum trebuie. Prima oara, **restarteaza kernel-ul** (in meniu, selecteaza Kernel$\\rightarrow$Restart & Run all);\n",
    "\n",
    "* nu lasa niciun mesaj la output (`disp`, `printf`, linii care nu sunt incheiate cu `;`) in functiile pe care le scrii decat daca ti se specifica explicit sa faci acest lucru! Orice abatere va fi **depunctata automat** de grader;\n",
    "\n",
    "* citeste instructiunile de [aici](https://github.com/radusqrt/numerical-methods/blob/master/lab_instructions.md) cu atentie;\n",
    "\n",
    "* asigura-te ca rezolvi toate celulele in care scrie `YOUR CODE HERE` sau `YOUR ANSWER HERE` si ca iti treci numele mai jos:"
   ]
  },
  {
   "cell_type": "code",
   "execution_count": 1,
   "metadata": {},
   "outputs": [],
   "source": [
    "STUDENT_NAME = \"Petruc_Rares\";"
   ]
  },
  {
   "cell_type": "markdown",
   "metadata": {},
   "source": [
    "---"
   ]
  },
  {
   "cell_type": "markdown",
   "metadata": {
    "deletable": false,
    "editable": false,
    "nbgrader": {
     "cell_type": "markdown",
     "checksum": "9e6054b5cda0286920ab5fc0d544e621",
     "grade": false,
     "grade_id": "cell-f6d859667d03cd56",
     "locked": true,
     "schema_version": 3,
     "solution": false,
     "task": false
    }
   },
   "source": [
    "# Laborator 4: Eliminari gaussiene\n",
    "### Autor: Radu Stochitoiu"
   ]
  },
  {
   "cell_type": "markdown",
   "metadata": {
    "deletable": false,
    "editable": false,
    "nbgrader": {
     "cell_type": "markdown",
     "checksum": "d7052d83956c034673c94a85d0666a22",
     "grade": false,
     "grade_id": "cell-dfc40073c7bfc46c",
     "locked": true,
     "schema_version": 3,
     "solution": false,
     "task": false
    }
   },
   "source": [
    "## Functii ajutatoare    "
   ]
  },
  {
   "cell_type": "code",
   "execution_count": 13,
   "metadata": {
    "deletable": false,
    "editable": false,
    "nbgrader": {
     "cell_type": "code",
     "checksum": "a5c807c4d8c1ef777d37a607a3d73211",
     "grade": false,
     "grade_id": "cell-14f7a580426c4dfb",
     "locked": true,
     "schema_version": 3,
     "solution": false,
     "task": false
    }
   },
   "outputs": [],
   "source": [
    "function [res] = isequal(A, B, err)\n",
    "    res = norm(A - B) < err;\n",
    "endfunction\n",
    "\n",
    "function [x] = SST(A, b)\n",
    "    n = length(b);\n",
    "    x = [b(n) / A(n, n)];\n",
    "    for i = n-1:-1:1\n",
    "        x = [(b(i) - A(i, [i+1:n]) * x) / A(i,i); x];\n",
    "    endfor\n",
    "endfunction"
   ]
  },
  {
   "cell_type": "markdown",
   "metadata": {
    "deletable": false,
    "editable": false,
    "nbgrader": {
     "cell_type": "markdown",
     "checksum": "495af4def0d0ae4000397536a16c35e6",
     "grade": false,
     "grade_id": "cell-789fe7ccd9e1f42c",
     "locked": true,
     "schema_version": 3,
     "solution": false,
     "task": false
    }
   },
   "source": [
    "## Problema 1\n",
    "\n",
    "Implementati functia ```G(A, b)``` ce primeste ca parametri o matrice $A$ patratica, de lungime pozitiva, si un vector coloana $b$ si returneaza matricea superior triunghiulara rezultata $R$ si solutia sistemului $Ax=b$ aflata prin eliminare gaussiana."
   ]
  },
  {
   "cell_type": "code",
   "execution_count": 14,
   "metadata": {
    "deletable": false,
    "nbgrader": {
     "cell_type": "code",
     "checksum": "dafe9279e2d539788af95d8dad01093c",
     "grade": false,
     "grade_id": "cell-6c4f0e6c8d2cd8ad",
     "locked": false,
     "schema_version": 3,
     "solution": true,
     "task": false
    }
   },
   "outputs": [],
   "source": [
    "function [x] = SST(A, b)\n",
    "n = length(b);\n",
    "x = zeros(n,1);\n",
    "for i = [n:-1:1]\n",
    "    x(i, 1) = (b(i)-A(i, [1:n])*x)/A(i, i);\n",
    "endfor\n",
    "endfunction\n",
    "\n",
    "function [R, x] = G(A, b)\n",
    "    n = size(A)(1);\n",
    "    R = A;\n",
    "    x = b;\n",
    "    for j = 1:n-1\n",
    "        for i = j+1:n\n",
    "            x(i, 1) = x(i, 1) - R(i, j)/R(j, j) * x(j, 1);\n",
    "            R(i, :) = R(i, :) - R(i, j)/R(j, j) * R(j, :);\n",
    "        endfor\n",
    "    endfor\n",
    "    x = SST(R, x);\n",
    "endfunction"
   ]
  },
  {
   "cell_type": "code",
   "execution_count": 15,
   "metadata": {
    "deletable": false,
    "editable": false,
    "nbgrader": {
     "cell_type": "code",
     "checksum": "17e8131d68dc5a8d563111e46d64db13",
     "grade": true,
     "grade_id": "cell-76803ce78500ac5b",
     "locked": true,
     "points": 2.5,
     "schema_version": 3,
     "solution": false,
     "task": false
    }
   },
   "outputs": [],
   "source": [
    "% Test 1\n",
    "A = [2 1 7; 3 1 0; 5 1 4];\n",
    "b = [3 2 4]';\n",
    "R_ref = [2 1 7; 0 -0.5 -10.5; 0 0 18];\n",
    "[R, x] = G(A, b);\n",
    "assert(isequal(R, R_ref, 1e-5));\n",
    "assert(isequal(x, A\\b, 1e-5));"
   ]
  },
  {
   "cell_type": "markdown",
   "metadata": {
    "deletable": false,
    "editable": false,
    "nbgrader": {
     "cell_type": "markdown",
     "checksum": "3ded1ea7249ce4c918a7ba0e393f6048",
     "grade": false,
     "grade_id": "cell-4611f0fe84fa631f",
     "locked": true,
     "schema_version": 3,
     "solution": false,
     "task": false
    }
   },
   "source": [
    "## Problema 2\n",
    "\n",
    "Implementati functia ```GPP(A, b)``` ce primeste ca parametri o matrice $A$ patratica, de lungime pozitiva, si un vector coloana $b$ si returneaza matricea superior triunghiulara rezultata $R$ si solutia sistemului $Ax=b$ aflata prin eliminare gaussiana cu pivotare partiala."
   ]
  },
  {
   "cell_type": "code",
   "execution_count": 16,
   "metadata": {
    "deletable": false,
    "nbgrader": {
     "cell_type": "code",
     "checksum": "0cbf842b9455fa488328146a5bd4727d",
     "grade": false,
     "grade_id": "cell-c7516db089407391",
     "locked": false,
     "schema_version": 3,
     "solution": true,
     "task": false
    }
   },
   "outputs": [],
   "source": [
    "function [R, x] = GPP(A, b)\n",
    "    n = size(A);\n",
    "    x = b;\n",
    "    R = A;\n",
    "    for k = 1:n\n",
    "        %partea de interschimbare\n",
    "        for i = k:n\n",
    "            for j = i+1:n\n",
    "                if (abs(R(i, k)) < abs(R(j, k)))\n",
    "                    aux = R(i, :);\n",
    "                    R(i, :) = R(j, :);\n",
    "                    R(j, :) = aux;\n",
    "                    aux2 = x(i, 1);\n",
    "                    x(i, 1) = x(j, 1);\n",
    "                    x(j, 1) = aux2;\n",
    "                endif\n",
    "            endfor\n",
    "        endfor     \n",
    "        for p = k+1:n\n",
    "            x(p, 1) = x(p, 1) - R(p, k)/R(k, k) * x(k, 1);\n",
    "            R(p, :) = R(p, :) - R(p, k)/R(k, k) * R(k, :);            \n",
    "        endfor\n",
    "    endfor\n",
    "    x = SST(R, x);\n",
    "endfunction"
   ]
  },
  {
   "cell_type": "code",
   "execution_count": 17,
   "metadata": {
    "deletable": false,
    "editable": false,
    "nbgrader": {
     "cell_type": "code",
     "checksum": "0ef3c72871ab3c305c381190c1b4f938",
     "grade": true,
     "grade_id": "cell-5c65cda0d44beeda",
     "locked": true,
     "points": 2.5,
     "schema_version": 3,
     "solution": false,
     "task": false
    }
   },
   "outputs": [],
   "source": [
    "% Test 1\n",
    "A = [0 1 3; 2 1 3; -3 1 1];\n",
    "b = [3 1 1]';\n",
    "R_ref = [-3 1 1; 0 5/3 11/3; 0 0 4/5];\n",
    "[R, x] = GPP(A, b);\n",
    "assert(isequal(R, R_ref, 1e-5));\n",
    "assert(isequal(x, A\\b, 1e-5));"
   ]
  },
  {
   "cell_type": "markdown",
   "metadata": {
    "deletable": false,
    "editable": false,
    "nbgrader": {
     "cell_type": "markdown",
     "checksum": "e8e2625410666eb8e1d64e5ea3dc51d7",
     "grade": false,
     "grade_id": "cell-2f3b2e1d1293afa5",
     "locked": true,
     "schema_version": 3,
     "solution": false,
     "task": false
    }
   },
   "source": [
    "## Problema 3\n",
    "\n",
    "Implementati functia ```GPPS(A, b)``` ce primeste ca parametri o matrice $A$ patratica, de lungime pozitiva, si un vector coloana $b$ si returneaza matricea superior triunghiulara rezultata $R$ si solutia sistemului $Ax=b$ aflata prin eliminare gaussiana cu pivotare partiala scalata."
   ]
  },
  {
   "cell_type": "code",
   "execution_count": 18,
   "metadata": {
    "deletable": false,
    "nbgrader": {
     "cell_type": "code",
     "checksum": "6bd835763e37b89f550947d3812dca84",
     "grade": false,
     "grade_id": "cell-db5584daf274edcc",
     "locked": false,
     "schema_version": 3,
     "solution": true,
     "task": false
    }
   },
   "outputs": [],
   "source": [
    "function [x] = SST(A, b)\n",
    "n = length(b);\n",
    "x = zeros(n,1);\n",
    "for i = [n:-1:1]\n",
    "    x(i, 1) = (b(i)-A(i, [1:n])*x)/A(i, i);\n",
    "endfor\n",
    "endfunction\n",
    "\n",
    "function [R, x] = GPPS(A, b)\n",
    "    n = size(A)(1);\n",
    "    R = A;\n",
    "    x = b;\n",
    "    for j = 1:n-1\n",
    "        maxRowValues = zeros(n:1);\n",
    "        for i=j:n\n",
    "            maxRowValues(i, 1) = max(abs(R(i, :)));\n",
    "        endfor\n",
    "        array = zeros(n:1);\n",
    "        % construiesc vectorul ajutator cu valorile ce trebuie comparate\n",
    "        for i = j:n\n",
    "            array(i, 1) = abs(R(i, j))/ maxRowValues(i, 1);\n",
    "        endfor\n",
    "        maxindex = 1;\n",
    "        maxvalue = array(1, 1);\n",
    "        for p = j:n\n",
    "            if (array(p, 1) > maxvalue)\n",
    "                maxvalue = array(p, 1);\n",
    "                maxindex = p;\n",
    "            endif\n",
    "        endfor\n",
    "        aux = x(maxindex, 1);\n",
    "        x(maxindex, :) = x(j, 1);\n",
    "        x(j, 1) = aux;\n",
    "        aux2 = R(maxindex, :);\n",
    "        R(maxindex, :) = R(j, :);\n",
    "        R(j, :) = aux2;\n",
    "        for p = j+1:n\n",
    "            x(p, 1) = x(p, 1) - R(p, j)/R(j, j) * x(j, 1);\n",
    "            R(p, :) = R(p, :) - R(p, j)/R(j, j) * R(j, :);            \n",
    "        endfor\n",
    "    endfor\n",
    "    x = SST(R, x);\n",
    "endfunction"
   ]
  },
  {
   "cell_type": "code",
   "execution_count": 19,
   "metadata": {
    "deletable": false,
    "editable": false,
    "nbgrader": {
     "cell_type": "code",
     "checksum": "9fcbf9f06f1b5c1781fe6000a01d1bc3",
     "grade": true,
     "grade_id": "cell-f44ba7111726bd8f",
     "locked": true,
     "points": 2.5,
     "schema_version": 3,
     "solution": false,
     "task": false
    }
   },
   "outputs": [],
   "source": [
    "% Test 1\n",
    "A = [3 -13 9 3; -6 4 1 -18; 6 -2 2 4; 12 -8 6 10];\n",
    "b = [-19 -34 16 26]';\n",
    "R_ref = [6 -2 2 4; 0 -12 8 1; 0 0 -2/3 5/3; 0 0 0 -3];\n",
    "[R, x] = GPPS(A, b);\n",
    "assert(isequal(R, R_ref, 1e-5));\n",
    "assert(isequal(x, A\\b, 1e-5));"
   ]
  },
  {
   "cell_type": "markdown",
   "metadata": {
    "deletable": false,
    "editable": false,
    "nbgrader": {
     "cell_type": "markdown",
     "checksum": "4dc0f95acae27ea3780f11f9f87b6ce3",
     "grade": false,
     "grade_id": "cell-a4fdda76bb59f660",
     "locked": true,
     "schema_version": 3,
     "solution": false,
     "task": false
    }
   },
   "source": [
    "## Problema 4\n",
    "\n",
    "Implementati functia ```GPT(A, b)``` ce primeste ca parametri o matrice $A$ patratica, de lungime pozitiva, si un vector coloana $b$ si returneaza matricea superior triunghiulara rezultata $R$ si solutia sistemului $Ax=b$ aflata prin eliminare gaussiana cu pivotare totala (se pastreaza ordinea initiala a elementelor lui $x$)."
   ]
  },
  {
   "cell_type": "code",
   "execution_count": 20,
   "metadata": {
    "deletable": false,
    "nbgrader": {
     "cell_type": "code",
     "checksum": "a2f44723c74200d1b27cfa4af49aaf45",
     "grade": false,
     "grade_id": "cell-70fc4464685c4ef4",
     "locked": false,
     "schema_version": 3,
     "solution": true,
     "task": false
    }
   },
   "outputs": [],
   "source": [
    "function [R, x] = GPT(A, b)\n",
    "    R = A;\n",
    "    x = b;\n",
    "    n = size(A)(1);\n",
    "    position = [1: 3];\n",
    "    for j = 1:n\n",
    "    maxval = R(j, j);\n",
    "    maxi = j;\n",
    "    maxj = j;\n",
    "        for p = j:n\n",
    "                for k = j:n\n",
    "                    if (R(p, k) > maxval)\n",
    "                        maxval = R(p, k);\n",
    "                        maxi = p;\n",
    "                        maxj = k;\n",
    "                    endif\n",
    "                endfor\n",
    "        endfor\n",
    "        % interschimbare linia j cu linia maxi\n",
    "        aux = R(j, :);\n",
    "        R(j, :) = R(maxi, :);\n",
    "        R(maxi, :) = aux;\n",
    "        % interschimbare coloana j cu, coloana maxj\n",
    "        aux2 = R(:, j);\n",
    "        R(:, j) = R(:, maxj);\n",
    "        R(:, maxj) = aux2;\n",
    "        % interschimbare coloana j cu, coloana maxj in vectorul pozitiilor\n",
    "        aux3 = position(1, j);\n",
    "        position(1, j) = position(1, maxj);\n",
    "        position(1, maxj) = aux3;\n",
    "        % interschimbare linia j cu lnia maxi in vectorul rezultat\n",
    "        aux4 = x(j, :);\n",
    "        x(j, :) = x(maxi, :);\n",
    "        x(maxi, :) = aux4;\n",
    "        for p = j+1:n\n",
    "            x(p, 1) = x(p, 1) - R(p, j)/R(j, j) * x(j, 1);\n",
    "            R(p, :) = R(p, :) - R(p, j)/R(j, j) * R(j, :);            \n",
    "        endfor\n",
    "    endfor\n",
    "        aux = SST(R, x);\n",
    "        for i = 1:n\n",
    "            x(position(i), 1) = aux(i, 1);\n",
    "        endfor\n",
    "endfunction"
   ]
  },
  {
   "cell_type": "code",
   "execution_count": 21,
   "metadata": {
    "deletable": false,
    "editable": false,
    "nbgrader": {
     "cell_type": "code",
     "checksum": "aa47b0a5c651dd02c4b6738b93e84edb",
     "grade": true,
     "grade_id": "cell-aaf13fdc74662547",
     "locked": true,
     "points": 2.5,
     "schema_version": 3,
     "solution": false,
     "task": false
    }
   },
   "outputs": [],
   "source": [
    "% Test 1\n",
    "A = [2 1 7; 3 1 0; 5 1 4];\n",
    "b = [3 2 4]';\n",
    "R_ref = [7 2 1; 0 27/7 3/7; 0 0 2/3];\n",
    "[R, x] = GPT(A, b);\n",
    "assert(isequal(R, R_ref, 1e-5));\n",
    "assert(isequal(x, A\\b, 1e-5));"
   ]
  },
  {
   "cell_type": "markdown",
   "metadata": {
    "deletable": false,
    "editable": false,
    "nbgrader": {
     "cell_type": "markdown",
     "checksum": "9a41a14107f22e724218645517dfb75c",
     "grade": false,
     "grade_id": "cell-20ca6a43d4a00ef7",
     "locked": true,
     "schema_version": 3,
     "solution": false,
     "task": false
    }
   },
   "source": [
    "## Problema 5 (BONUS)\n",
    "\n",
    "Implementati functia ```GaussJordan(A)``` ce primeste ca parametru o matrice $A$ patratica, de lungime pozitiva, si returneaza inversa lui $A$ calculata prin procedeul Gauss-Jordan."
   ]
  },
  {
   "cell_type": "code",
   "execution_count": 22,
   "metadata": {
    "deletable": false,
    "nbgrader": {
     "cell_type": "code",
     "checksum": "8a705416c38e8bb1a322cb95c084246a",
     "grade": false,
     "grade_id": "cell-22661ef82e851a56",
     "locked": false,
     "schema_version": 3,
     "solution": true,
     "task": false
    }
   },
   "outputs": [],
   "source": [
    "function [R, x] = GPPS_(A, b)\n",
    "    n = size(A)(1);\n",
    "    R = A;\n",
    "    x = b;\n",
    "    maxRowValues = zeros(n:1);\n",
    "    for i=1:n\n",
    "        maxRowValues(i, 1) = max(abs(R(i, :)));\n",
    "    endfor\n",
    "    for j = 1:n-1\n",
    "        array = zeros(n:1);\n",
    "        % construiesc vectorul ajutator cu valorile ce trebuie comparate\n",
    "        for i = j:n\n",
    "            array(i, 1) = abs(R(i, j))/ maxRowValues(i, 1);\n",
    "        endfor\n",
    "        maxindex = 1;\n",
    "        maxvalue = array(1, 1);\n",
    "        for p = j:n\n",
    "            if (array(p, 1) > maxvalue)\n",
    "                maxvalue = array(p, 1);\n",
    "                maxindex = p;\n",
    "            endif\n",
    "        endfor\n",
    "        aux = x(maxindex, :);\n",
    "        x(maxindex, :) = x(j, :);\n",
    "        x(j, :) = aux;\n",
    "        aux2 = R(maxindex, :);\n",
    "        R(maxindex, :) = R(j, :);\n",
    "        R(j, :) = aux2;\n",
    "        for p = j+1:n\n",
    "            x(p, :) = x(p, :) - R(p, j)/R(j, j) * x(j, :);\n",
    "            R(p, :) = R(p, :) - R(p, j)/R(j, j) * R(j, :);            \n",
    "        endfor\n",
    "    endfor\n",
    "endfunction\n",
    "\n",
    "function [R, x] = GPPS__(A, b)\n",
    "    n = size(A)(1);\n",
    "    R = A;\n",
    "    x = b;\n",
    "    maxRowValues = zeros(n:1);\n",
    "    for i=n:-1:1\n",
    "        maxRowValues(i, 1) = max(abs(R(i, :)));\n",
    "    endfor\n",
    "    for j = n:-1:2\n",
    "        array = zeros(3:1);\n",
    "        % construiesc vectorul ajutator cu valorile ce trebuie comparate\n",
    "        for i = j:-1:1\n",
    "        array(i, 1) = abs(R(i, j))/ maxRowValues(i, 1);\n",
    "        endfor\n",
    "        maxindex = 1;\n",
    "        maxvalue = array(1, 1);\n",
    "        for p = j:-1:1\n",
    "            if (array(p, 1) > maxvalue)\n",
    "                maxvalue = array(p, 1);\n",
    "                maxindex = p;\n",
    "            endif\n",
    "        endfor\n",
    "        % if maxvalue == 0 return;\n",
    "        aux = x(maxindex, :);\n",
    "        x(maxindex, :) = x(j, :);\n",
    "        x(j, :) = aux;\n",
    "        aux2 = R(maxindex, :);\n",
    "        R(maxindex, :) = R(j, :);\n",
    "        R(j, :) = aux2;\n",
    "        for p = j-1:-1:1\n",
    "            x(p, :) = x(p, :) - R(p, j)/R(j, j) * x(j, :);\n",
    "            R(p, :) = R(p, :) - R(p, j)/R(j, j) * R(j, :);            \n",
    "        endfor\n",
    "    endfor\n",
    "endfunction\n",
    "\n",
    "function [x] = scale_them(I3, invA)\n",
    "    n = size(I3)(1);\n",
    "    x = invA;\n",
    "    for i = 1:n\n",
    "        x(i, :) = x(i, :)  / I3(i, i);\n",
    "    endfor\n",
    "endfunction\n",
    "\n",
    "function [invA] = GaussJordan(A)\n",
    "    n = size(A)(1);\n",
    "    auxA = A;\n",
    "    array = zeros(n);\n",
    "    invA = eye(n);\n",
    "    % make it LU\n",
    "    [I3, invA]  = GPPS_(A, invA);\n",
    "    %make it RU\n",
    "    [I3, invA]  = GPPS__(I3, invA);\n",
    "    %Make I3 identity matrix\n",
    "    [invA] = scale_them(I3, invA);\n",
    "endfunction"
   ]
  },
  {
   "cell_type": "code",
   "execution_count": 23,
   "metadata": {
    "deletable": false,
    "editable": false,
    "nbgrader": {
     "cell_type": "code",
     "checksum": "d2f1ce363df1fe6dd16413486a59b9a3",
     "grade": true,
     "grade_id": "cell-7622c753ae964e5d",
     "locked": true,
     "points": 2,
     "schema_version": 3,
     "solution": false,
     "task": false
    }
   },
   "outputs": [],
   "source": [
    "% Test 1\n",
    "A = [2 3 0; 1 -2 -1; 2 0 -1];\n",
    "[invA] = GaussJordan(A);\n",
    "assert(isequal(invA, inv(A), 1e-5));"
   ]
  }
 ],
 "metadata": {
  "kernelspec": {
   "display_name": "Octave",
   "language": "octave",
   "name": "octave"
  },
  "language_info": {
   "file_extension": ".m",
   "help_links": [
    {
     "text": "GNU Octave",
     "url": "https://www.gnu.org/software/octave/support.html"
    },
    {
     "text": "Octave Kernel",
     "url": "https://github.com/Calysto/octave_kernel"
    },
    {
     "text": "MetaKernel Magics",
     "url": "https://metakernel.readthedocs.io/en/latest/source/README.html"
    }
   ],
   "mimetype": "text/x-octave",
   "name": "octave",
   "version": "4.2.2"
  }
 },
 "nbformat": 4,
 "nbformat_minor": 4
}
